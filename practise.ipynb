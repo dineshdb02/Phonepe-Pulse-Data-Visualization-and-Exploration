{
 "cells": [
  {
   "cell_type": "code",
   "execution_count": 1,
   "metadata": {},
   "outputs": [],
   "source": [
    "import psycopg2\n",
    "import pandas as pd\n",
    "import plotly.express as px"
   ]
  },
  {
   "cell_type": "code",
   "execution_count": 35,
   "metadata": {},
   "outputs": [],
   "source": [
    "db=psycopg2.connect(host='localhost',user='postgres',password='11001100',database='phonepay',port=5432)\n",
    "access=db.cursor()\n",
    "access.execute(\"Select * from Top_User\")\n",
    "db.commit()\n",
    "tab=access.fetchall()\n",
    "Top_User=pd.DataFrame(tab,columns=(\"State\",\"Year\",\"Quater\",\"Pincode\",\"RegisteredUsers\"))\n",
    "\n"
   ]
  },
  {
   "cell_type": "code",
   "execution_count": 3,
   "metadata": {},
   "outputs": [],
   "source": [
    "db=psycopg2.connect(host='localhost',user='postgres',password='11001100',database='phonepay',port=5432)\n",
    "access=db.cursor()\n",
    "access.execute(\"Select * from Top_Trans\")\n",
    "db.commit()\n",
    "tab1=access.fetchall()\n",
    "Top_Trans=pd.DataFrame(tab1,columns=(\"State\",\"Year\",\"Quater\",\"Pincode\",\"Transacion_count\",\"Transacion_amount\"))\n",
    "\n"
   ]
  },
  {
   "cell_type": "code",
   "execution_count": null,
   "metadata": {},
   "outputs": [],
   "source": [
    "df=Top_Trans.groupby([\"State\",\"Pincode\"])[[\"Transacion_count\",\"Transacion_amount\"]].sum().reset_index()\n",
    "import plotly.express as px\n",
    "\n",
    "# fig =px.icicle(df,path=[px.Constant(\"all\"), 'State', 'Pincode'], values='Transacion_count')\n",
    "\n",
    "fig=px.pie(df,values=\"Transacion_amount\",\n",
    "            names=\"Pincode\",\n",
    "            title=\"Top10\",\n",
    "            color_discrete_sequence=px.colors.sequential.Agsunset,\n",
    "            hover_data=[\"Transacion_count\"],\n",
    "            labels={\"Transacion_count\": \"Transacion_count\"})\n",
    "fig.update_traces(textposition='inside', textinfo='percent+label')\n",
    "  \n",
    "\n",
    "# fig.update_traces(root_color=\"lightgrey\")\n",
    "# fig.update_layout(margin = dict(t=50, l=25, r=25, b=25))\n",
    "fig.show()\n",
    "\n"
   ]
  },
  {
   "cell_type": "code",
   "execution_count": 82,
   "metadata": {},
   "outputs": [
    {
     "data": {
      "text/plain": [
       "135980782007"
      ]
     },
     "execution_count": 82,
     "metadata": {},
     "output_type": "execute_result"
    }
   ],
   "source": [
    "t=Map_Trans.groupby('Districts')[[\"Transacion_count\",\"Transacion_amount\"]].sum()\n",
    "t1_sum=t[\"Transacion_count\"].sum()\n",
    "t1_sum\n"
   ]
  },
  {
   "cell_type": "code",
   "execution_count": 88,
   "metadata": {},
   "outputs": [
    {
     "data": {
      "text/plain": [
       "135980782007"
      ]
     },
     "execution_count": 88,
     "metadata": {},
     "output_type": "execute_result"
    }
   ],
   "source": [
    "t=Agg_Trans.groupby(\"State\")[[\"Transacion_count\",\"Transacion_amount\"]].sum().reset_index()\n",
    "t_sum=t[\"Transacion_count\"].sum()\n",
    "\n",
    "# t_sum1=t[\"Transacion_amount\"].sum()\n",
    "t_sum\n",
    "# tt=Agg_Trans.groupby(\"State\")[[\"Transacion_count\",\"Transacion_amount\"]].sum().reset_index()\n",
    "# # t_sum=t[\"Transacion_count\"].sum()\n",
    "\n",
    "# t_sum1=tt[\"Transacion_amount\"].sum()\n",
    "# t_sum1\n",
    "\n"
   ]
  },
  {
   "cell_type": "code",
   "execution_count": null,
   "metadata": {},
   "outputs": [],
   "source": [
    "def totalvalue(df,Year,Quater):\n",
    "    di=df[(df.Year==Year) & (df.Quater==Quater)]\n",
    "    t=di.groupby(\"State\")[[\"Transacion_count\",\"Transacion_amount\"]].sum().reset_index()\n",
    "    \n",
    "    din = pd.DataFrame(t)\n",
    "    # t_sum=t[\"Transacion_count\"].sum()\n",
    "\n",
    "    t_sum1=din[\"Transacion_amount\"].sum()\n",
    "    return din\n",
    "    return t_sum1\n",
    "    \n",
    "\n",
    "totalvalue(Agg_Trans,2018,1)"
   ]
  },
  {
   "cell_type": "code",
   "execution_count": 15,
   "metadata": {},
   "outputs": [],
   "source": [
    "db=psycopg2.connect(host='localhost',user='postgres',password='11001100',database='phonepay',port=5432)\n",
    "access=db.cursor()\n",
    "access.execute(\"Select * from Map_User\")\n",
    "db.commit()\n",
    "tab2=access.fetchall()\n",
    "Map_User=pd.DataFrame(tab2,columns=(\"State\",\"Year\",\"Quater\",\"Districts\",\"RegisteredUsers\",\"Appopens\"))\n",
    "\n"
   ]
  },
  {
   "cell_type": "code",
   "execution_count": 4,
   "metadata": {},
   "outputs": [],
   "source": [
    "db=psycopg2.connect(host='localhost',user='postgres',password='11001100',database='phonepay',port=5432)\n",
    "access=db.cursor()\n",
    "access.execute(\"Select * from Map_Trans\")\n",
    "db.commit()\n",
    "tab3=access.fetchall()\n",
    "Map_Trans=pd.DataFrame(tab3,columns=(\"State\",\"Year\",\"Quater\",\"Districts\",\"Transacion_count\",\"Transacion_amount\"))\n",
    "\n"
   ]
  },
  {
   "cell_type": "code",
   "execution_count": 93,
   "metadata": {},
   "outputs": [],
   "source": [
    "db=psycopg2.connect(host='localhost',user='postgres',password='11001100',database='phonepay',port=5432)\n",
    "access=db.cursor()\n",
    "access.execute(\"Select * from Agg_User\")\n",
    "db.commit()\n",
    "tab4=access.fetchall()\n",
    "Agg_User=pd.DataFrame(tab4,columns=(\"State\",\"Year\",\"Quater\",\"Brands\",\"Transacion_count\",\"Percentage\"))\n",
    "\n"
   ]
  },
  {
   "cell_type": "code",
   "execution_count": null,
   "metadata": {},
   "outputs": [],
   "source": []
  },
  {
   "cell_type": "code",
   "execution_count": null,
   "metadata": {},
   "outputs": [],
   "source": [
    "di=Agg_User[Agg_User.Year==2018]\n",
    "din=di.groupby([\"State\",\"Brands\"])[[\"Transacion_count\",\"Percentage\"]].sum()\n",
    "din.reset_index( inplace=True)\n",
    "fig = px.sunburst(din, path=['State', 'Brands'], values='Transacion_count',hover_name=\"Brands\",width=700,height=700,title=\"Transacion_count\")\n",
    "fig.show()\n",
    "fig = px.bar(din, x='Brands', y ='Percentage',hover_name=\"Brands\",width=700,height=700,title=\"Percentage\")\n",
    "fig.show()"
   ]
  },
  {
   "cell_type": "code",
   "execution_count": 112,
   "metadata": {},
   "outputs": [
    {
     "data": {
      "application/vnd.plotly.v1+json": {
       "config": {
        "plotlyServerURL": "https://plot.ly"
       },
       "data": [
        {
         "alignmentgroup": "True",
         "hovertemplate": "<b>%{hovertext}</b><br><br>State=%{x}<br>Transacion_count=%{y}<extra></extra>",
         "hovertext": [
          "Nicobars ",
          "North And Middle Andaman ",
          "South Andaman ",
          "Anantapur ",
          "Chittoor ",
          "East Godavari ",
          "Guntur ",
          "Krishna ",
          "Kurnool ",
          "Prakasam ",
          "Spsr Nellore ",
          "Srikakulam ",
          "Visakhapatnam ",
          "Vizianagaram ",
          "West Godavari ",
          "Ysr ",
          "Anjaw ",
          "Changlang ",
          "Dibang Valley ",
          "East Kameng ",
          "East Siang ",
          "Kamle ",
          "Kra Daadi ",
          "Kurung Kumey ",
          "Lepa Rada ",
          "Lohit ",
          "Longding ",
          "Lower Dibang Valley ",
          "Lower Siang ",
          "Lower Subansiri ",
          "Namsai ",
          "Pakke Kessang ",
          "Papum Pare ",
          "Shi Yomi ",
          "Siang ",
          "Tawang ",
          "Tirap ",
          "Upper Siang ",
          "Upper Subansiri ",
          "West Kameng ",
          "West Siang ",
          "Baksa ",
          "Barpeta ",
          "Biswanath ",
          "Bongaigaon ",
          "Cachar ",
          "Charaideo ",
          "Chirang ",
          "Darrang ",
          "Dhemaji ",
          "Dhubri ",
          "Dibrugarh ",
          "Dima Hasao ",
          "Goalpara ",
          "Golaghat ",
          "Hailakandi ",
          "Hojai ",
          "Jorhat ",
          "Kamrup ",
          "Kamrup Metropolitan ",
          "Karbi Anglong ",
          "Karimganj ",
          "Kokrajhar ",
          "Lakhimpur ",
          "Majuli ",
          "Marigaon ",
          "Nagaon ",
          "Nalbari ",
          "Sivasagar ",
          "Sonitpur ",
          "South Salmara Mancachar ",
          "Tinsukia ",
          "Udalguri ",
          "West Karbi Anglong ",
          "Araria ",
          "Arwal ",
          "Aurangabad ",
          "Banka ",
          "Begusarai ",
          "Bhagalpur ",
          "Bhojpur ",
          "Buxar ",
          "Darbhanga ",
          "Gaya ",
          "Gopalganj ",
          "Jamui ",
          "Jehanabad ",
          "Kaimur Bhabua ",
          "Katihar ",
          "Khagaria ",
          "Kishanganj ",
          "Lakhisarai ",
          "Madhepura ",
          "Madhubani ",
          "Munger ",
          "Muzaffarpur ",
          "Nalanda ",
          "Nawada ",
          "Pashchim Champaran ",
          "Patna ",
          "Purbi Champaran ",
          "Purnia ",
          "Rohtas ",
          "Saharsa ",
          "Samastipur ",
          "Saran ",
          "Sheikhpura ",
          "Sheohar ",
          "Sitamarhi ",
          "Siwan ",
          "Supaul ",
          "Vaishali ",
          "Chandigarh ",
          "Balod ",
          "Baloda Bazar ",
          "Balrampur ",
          "Bastar ",
          "Bemetara ",
          "Bijapur ",
          "Bilaspur ",
          "Dantewada ",
          "Dhamtari ",
          "Durg ",
          "Gariyaband ",
          "Janjgir Champa ",
          "Jashpur ",
          "Kabirdham ",
          "Kanker ",
          "Kondagaon ",
          "Korba ",
          "Korea ",
          "Mahasamund ",
          "Mungeli ",
          "Narayanpur ",
          "Raigarh ",
          "Raipur ",
          "Rajnandgaon ",
          "Sukma ",
          "Surajpur ",
          "Surguja ",
          "Dadra And Nagar Haveli ",
          "Daman ",
          "Diu ",
          "Central ",
          "East ",
          "New Delhi ",
          "North ",
          "North East ",
          "North West ",
          "Shahdara ",
          "South ",
          "South East Delhi ",
          "South West ",
          "West ",
          "North Goa ",
          "South Goa ",
          "Ahmadabad ",
          "Amreli ",
          "Anand ",
          "Aravallis ",
          "Banas Kantha ",
          "Bharuch ",
          "Bhavnagar ",
          "Botad ",
          "Chhotaudepur ",
          "Devbhumi Dwarka ",
          "Dohad ",
          "Gandhinagar ",
          "Gir Somnath ",
          "Jamnagar ",
          "Junagadh ",
          "Kachchh ",
          "Kheda ",
          "Mahesana ",
          "Mahisagar ",
          "Morbi ",
          "Narmada ",
          "Navsari ",
          "Panch Mahals ",
          "Patan ",
          "Porbandar ",
          "Rajkot ",
          "Sabar Kantha ",
          "Surat ",
          "Surendranagar ",
          "Tapi ",
          "The Dangs ",
          "Vadodara ",
          "Valsad ",
          "Ambala ",
          "Bhiwani ",
          "Charkhi Dadri ",
          "Faridabad ",
          "Fatehabad ",
          "Gurugram ",
          "Hisar ",
          "Jhajjar ",
          "Jind ",
          "Kaithal ",
          "Karnal ",
          "Kurukshetra ",
          "Mahendragarh ",
          "Mewat ",
          "Palwal ",
          "Panchkula ",
          "Panipat ",
          "Rewari ",
          "Rohtak ",
          "Sirsa ",
          "Sonipat ",
          "Yamunanagar ",
          "Bilaspur ",
          "Chamba ",
          "Hamirpur ",
          "Kangra ",
          "Kinnaur ",
          "Kullu ",
          "Lahul And Spiti ",
          "Mandi ",
          "Shimla ",
          "Sirmaur ",
          "Solan ",
          "Una ",
          "Anantnag ",
          "Bandipore ",
          "Baramulla ",
          "Budgam ",
          "Doda ",
          "Ganderbal ",
          "Jammu ",
          "Kathua ",
          "Kishtwar ",
          "Kulgam ",
          "Kupwara ",
          "Mirpur ",
          "Muzaffarabad ",
          "Poonch ",
          "Pulwama ",
          "Rajouri ",
          "Ramban ",
          "Reasi ",
          "Samba ",
          "Shopian ",
          "Srinagar ",
          "Udhampur ",
          "Bokaro ",
          "Chatra ",
          "Deoghar ",
          "Dhanbad ",
          "Dumka ",
          "East Singhbhum ",
          "Garhwa ",
          "Giridih ",
          "Godda ",
          "Gumla ",
          "Hazaribagh ",
          "Jamtara ",
          "Khunti ",
          "Koderma ",
          "Latehar ",
          "Lohardaga ",
          "Pakur ",
          "Palamu ",
          "Ramgarh ",
          "Ranchi ",
          "Sahebganj ",
          "Saraikela Kharsawan ",
          "Simdega ",
          "West Singhbhum ",
          "Bagalkote ",
          "Ballari ",
          "Belagavi ",
          "Bengaluru Rural ",
          "Bengaluru Urban ",
          "Bidar ",
          "Chamarajanagara ",
          "Chikkaballapura ",
          "Chikkamagaluru ",
          "Chitradurga ",
          "Dakshina Kannada ",
          "Davanagere ",
          "Dharwad ",
          "Gadag ",
          "Hassan ",
          "Haveri ",
          "Kalaburagi ",
          "Kodagu ",
          "Kolar ",
          "Koppal ",
          "Mandya ",
          "Mysuru ",
          "Raichur ",
          "Ramanagara ",
          "Shivamogga ",
          "Tumakuru ",
          "Udupi ",
          "Uttara Kannada ",
          "Vijayapura ",
          "Yadgir ",
          "Alappuzha ",
          "Ernakulam ",
          "Idukki ",
          "Kannur ",
          "Kasaragod ",
          "Kollam ",
          "Kottayam ",
          "Kozhikode ",
          "Malappuram ",
          "Palakkad ",
          "Pathanamthitta ",
          "Thiruvananthapuram ",
          "Thrissur ",
          "Wayanad ",
          "Kargil ",
          "Leh Ladakh ",
          "Lakshadweep ",
          "Agar Malwa ",
          "Alirajpur ",
          "Anuppur ",
          "Ashoknagar ",
          "Balaghat ",
          "Barwani ",
          "Betul ",
          "Bhind ",
          "Bhopal ",
          "Burhanpur ",
          "Chhatarpur ",
          "Chhindwara ",
          "Damoh ",
          "Datia ",
          "Dewas ",
          "Dhar ",
          "Dindori ",
          "East Nimar ",
          "Guna ",
          "Gwalior ",
          "Harda ",
          "Hoshangabad ",
          "Indore ",
          "Jabalpur ",
          "Jhabua ",
          "Katni ",
          "Khargone ",
          "Mandla ",
          "Mandsaur ",
          "Morena ",
          "Narsinghpur ",
          "Neemuch ",
          "Niwari ",
          "Panna ",
          "Raisen ",
          "Rajgarh ",
          "Ratlam ",
          "Rewa ",
          "Sagar ",
          "Satna ",
          "Sehore ",
          "Seoni ",
          "Shahdol ",
          "Shajapur ",
          "Sheopur ",
          "Shivpuri ",
          "Sidhi ",
          "Singrauli ",
          "Tikamgarh ",
          "Ujjain ",
          "Umaria ",
          "Vidisha ",
          "Ahmednagar ",
          "Akola ",
          "Amravati ",
          "Aurangabad ",
          "Beed ",
          "Bhandara ",
          "Buldhana ",
          "Chandrapur ",
          "Dhule ",
          "Gadchiroli ",
          "Gondia ",
          "Hingoli ",
          "Jalgaon ",
          "Jalna ",
          "Kolhapur ",
          "Latur ",
          "Mumbai ",
          "Mumbai Suburban ",
          "Nagpur ",
          "Nanded ",
          "Nandurbar ",
          "Nashik ",
          "Osmanabad ",
          "Palghar ",
          "Parbhani ",
          "Pune ",
          "Raigad ",
          "Ratnagiri ",
          "Sangli ",
          "Satara ",
          "Sindhudurg ",
          "Solapur ",
          "Thane ",
          "Wardha ",
          "Washim ",
          "Yavatmal ",
          "Bishnupur ",
          "Chandel ",
          "Churachandpur ",
          "Imphal East ",
          "Imphal West ",
          "Jiribam ",
          "Kakching ",
          "Kamjong ",
          "Kangpokpi ",
          "Noney ",
          "Pherzawl ",
          "Senapati ",
          "Tamenglong ",
          "Tengnoupal ",
          "Thoubal ",
          "Ukhrul ",
          "East Garo Hills ",
          "East Jaintia Hills ",
          "East Khasi Hills ",
          "North Garo Hills ",
          "Ribhoi ",
          "South Garo Hills ",
          "South West Garo Hills ",
          "South West Khasi Hills ",
          "West Garo Hills ",
          "West Jaintia Hills ",
          "West Khasi Hills ",
          "Aizawl ",
          "Champhai ",
          "Kolasib ",
          "Lawngtlai ",
          "Lunglei ",
          "Mamit ",
          "Saiha ",
          "Serchhip ",
          "Dimapur ",
          "Kiphire ",
          "Kohima ",
          "Longleng ",
          "Mokokchung ",
          "Mon ",
          "Peren ",
          "Phek ",
          "Tuensang ",
          "Wokha ",
          "Zunheboto ",
          "Anugul ",
          "Balangir ",
          "Baleshwar ",
          "Bargarh ",
          "Bhadrak ",
          "Boudh ",
          "Cuttack ",
          "Deogarh ",
          "Dhenkanal ",
          "Gajapati ",
          "Ganjam ",
          "Jagatsinghapur ",
          "Jajapur ",
          "Jharsuguda ",
          "Kalahandi ",
          "Kandhamal ",
          "Kendrapara ",
          "Kendujhar ",
          "Khordha ",
          "Koraput ",
          "Malkangiri ",
          "Mayurbhanj ",
          "Nabarangpur ",
          "Nayagarh ",
          "Nuapada ",
          "Puri ",
          "Rayagada ",
          "Sambalpur ",
          "Sonepur ",
          "Sundargarh ",
          "Karaikal ",
          "Mahe ",
          "Puducherry ",
          "Yanam ",
          "Amritsar ",
          "Barnala ",
          "Bathinda ",
          "Faridkot ",
          "Fatehgarh Sahib ",
          "Fazilka ",
          "Firozepur ",
          "Gurdaspur ",
          "Hoshiarpur ",
          "Jalandhar ",
          "Kapurthala ",
          "Ludhiana ",
          "Mansa ",
          "Moga ",
          "Pathankot ",
          "Patiala ",
          "Rupnagar ",
          "Sangrur ",
          "Sas Nagar ",
          "Shahid Bhagat Singh Nagar ",
          "Sri Muktsar Sahib ",
          "Tarn Taran ",
          "Ajmer ",
          "Alwar ",
          "Banswara ",
          "Baran ",
          "Barmer ",
          "Bharatpur ",
          "Bhilwara ",
          "Bikaner ",
          "Bundi ",
          "Chittorgarh ",
          "Churu ",
          "Dausa ",
          "Dholpur ",
          "Dungarpur ",
          "Ganganagar ",
          "Hanumangarh ",
          "Jaipur ",
          "Jaisalmer ",
          "Jalore ",
          "Jhalawar ",
          "Jhunjhunu ",
          "Jodhpur ",
          "Karauli ",
          "Kota ",
          "Nagaur ",
          "Pali ",
          "Pratapgarh ",
          "Rajsamand ",
          "Sawai Madhopur ",
          "Sikar ",
          "Sirohi ",
          "Tonk ",
          "Udaipur ",
          "East ",
          "North ",
          "South ",
          "West ",
          "Ariyalur ",
          "Chengalpattu ",
          "Chennai ",
          "Coimbatore ",
          "Cuddalore ",
          "Dharmapuri ",
          "Dindigul ",
          "Erode ",
          "Kallakkurichi ",
          "Kancheepuram ",
          "Kanniyakumari ",
          "Karur ",
          "Krishnagiri ",
          "Madurai ",
          "Nagapattinam ",
          "Namakkal ",
          "Perambalur ",
          "Pudukkottai ",
          "Ramanathapuram ",
          "Ranipet ",
          "Salem ",
          "Sivaganga ",
          "Tenkasi ",
          "Thanjavur ",
          "The Nilgiris ",
          "Theni ",
          "Thiruvallur ",
          "Thiruvarur ",
          "Thoothukkudi ",
          "Tiruchirappalli ",
          "Tirunelveli ",
          "Tirupathur ",
          "Tiruppur ",
          "Tiruvannamalai ",
          "Vellore ",
          "Viluppuram ",
          "Virudhunagar ",
          "Adilabad ",
          "Bhadradri Kothagudem ",
          "Hyderabad ",
          "Jagtial ",
          "Jangaon ",
          "Jaya Shankar Bhalupally ",
          "Jogulamba Gadwal ",
          "Kamareddy ",
          "Karimnagar ",
          "Khammam ",
          "Kumuram Bheem Asifabad ",
          "Mahabubabad ",
          "Mahbubnagar ",
          "Mancherial ",
          "Medak ",
          "Medchal Malkajgiri ",
          "Mulugu ",
          "Nagarkurnool ",
          "Nalgonda ",
          "Narayanpet ",
          "Nirmal ",
          "Nizamabad ",
          "Peddapalle ",
          "Rajanna Sircilla ",
          "Rangareddy ",
          "Sangareddy ",
          "Siddipet ",
          "Suryapet ",
          "Vikarabad ",
          "Wanaparthy ",
          "Warangal Rural ",
          "Warangal Urban ",
          "Yadadri Bhuvanagiri ",
          "Dhalai ",
          "Gomati ",
          "Khowai ",
          "North Tripura ",
          "Sepahijala ",
          "South Tripura ",
          "Unakoti ",
          "West Tripura ",
          "Agra ",
          "Aligarh ",
          "Ambedkar Nagar ",
          "Amethi ",
          "Amroha ",
          "Auraiya ",
          "Ayodhya ",
          "Azamgarh ",
          "Baghpat ",
          "Bahraich ",
          "Ballia ",
          "Balrampur ",
          "Banda ",
          "Bara Banki ",
          "Bareilly ",
          "Basti ",
          "Bhadohi ",
          "Bijnor ",
          "Budaun ",
          "Bulandshahr ",
          "Chandauli ",
          "Chitrakoot ",
          "Deoria ",
          "Etah ",
          "Etawah ",
          "Farrukhabad ",
          "Fatehpur ",
          "Firozabad ",
          "Gautam Buddha Nagar ",
          "Ghaziabad ",
          "Ghazipur ",
          "Gonda ",
          "Gorakhpur ",
          "Hamirpur ",
          "Hapur ",
          "Hardoi ",
          "Hathras ",
          "Jalaun ",
          "Jaunpur ",
          "Jhansi ",
          "Kannauj ",
          "Kanpur Dehat ",
          "Kanpur Nagar ",
          "Kasganj ",
          "Kaushambi ",
          "Kheri ",
          "Kushinagar ",
          "Lalitpur ",
          "Lucknow ",
          "Maharajganj ",
          "Mahoba ",
          "Mainpuri ",
          "Mathura ",
          "Mau ",
          "Meerut ",
          "Mirzapur ",
          "Moradabad ",
          "Muzaffarnagar ",
          "Pilibhit ",
          "Pratapgarh ",
          "Prayagraj ",
          "Rae Bareli ",
          "Rampur ",
          "Saharanpur ",
          "Sambhal ",
          "Sant Kabeer Nagar ",
          "Shahjahanpur ",
          "Shamli ",
          "Shravasti ",
          "Siddharthnagar ",
          "Sitapur ",
          "Sonbhadra ",
          "Sultanpur ",
          "Unnao ",
          "Varanasi ",
          "Almora ",
          "Bageshwar ",
          "Chamoli ",
          "Champawat ",
          "Dehradun ",
          "Haridwar ",
          "Nainital ",
          "Pauri Garhwal ",
          "Pithoragarh ",
          "Rudraprayag ",
          "Tehri Garhwal ",
          "Udham Singh Nagar ",
          "Uttarkashi ",
          "Alipurduar ",
          "Bankura ",
          "Birbhum ",
          "Dakshin Dinajpur ",
          "Darjiling ",
          "Hooghly ",
          "Howrah ",
          "Jalpaiguri ",
          "Jhargram ",
          "Kalimpong ",
          "Koch Bihar ",
          "Kolkata ",
          "Maldah ",
          "Murshidabad ",
          "Nadia ",
          "North Twenty Four Parganas ",
          "Paschim Bardhaman ",
          "Paschim Medinipur ",
          "Purba Bardhaman ",
          "Purba Medinipur ",
          "Purulia ",
          "South Twenty Four Parganas ",
          "Uttar Dinajpur "
         ],
         "legendgroup": "",
         "marker": {
          "color": "#636efa",
          "pattern": {
           "shape": ""
          }
         },
         "name": "",
         "offsetgroup": "",
         "orientation": "v",
         "showlegend": false,
         "textposition": "auto",
         "type": "bar",
         "x": [
          "Andaman & Nicobar",
          "Andaman & Nicobar",
          "Andaman & Nicobar",
          "Andhra Pradesh",
          "Andhra Pradesh",
          "Andhra Pradesh",
          "Andhra Pradesh",
          "Andhra Pradesh",
          "Andhra Pradesh",
          "Andhra Pradesh",
          "Andhra Pradesh",
          "Andhra Pradesh",
          "Andhra Pradesh",
          "Andhra Pradesh",
          "Andhra Pradesh",
          "Andhra Pradesh",
          "Arunachal Pradesh",
          "Arunachal Pradesh",
          "Arunachal Pradesh",
          "Arunachal Pradesh",
          "Arunachal Pradesh",
          "Arunachal Pradesh",
          "Arunachal Pradesh",
          "Arunachal Pradesh",
          "Arunachal Pradesh",
          "Arunachal Pradesh",
          "Arunachal Pradesh",
          "Arunachal Pradesh",
          "Arunachal Pradesh",
          "Arunachal Pradesh",
          "Arunachal Pradesh",
          "Arunachal Pradesh",
          "Arunachal Pradesh",
          "Arunachal Pradesh",
          "Arunachal Pradesh",
          "Arunachal Pradesh",
          "Arunachal Pradesh",
          "Arunachal Pradesh",
          "Arunachal Pradesh",
          "Arunachal Pradesh",
          "Arunachal Pradesh",
          "Assam",
          "Assam",
          "Assam",
          "Assam",
          "Assam",
          "Assam",
          "Assam",
          "Assam",
          "Assam",
          "Assam",
          "Assam",
          "Assam",
          "Assam",
          "Assam",
          "Assam",
          "Assam",
          "Assam",
          "Assam",
          "Assam",
          "Assam",
          "Assam",
          "Assam",
          "Assam",
          "Assam",
          "Assam",
          "Assam",
          "Assam",
          "Assam",
          "Assam",
          "Assam",
          "Assam",
          "Assam",
          "Assam",
          "Bihar",
          "Bihar",
          "Bihar",
          "Bihar",
          "Bihar",
          "Bihar",
          "Bihar",
          "Bihar",
          "Bihar",
          "Bihar",
          "Bihar",
          "Bihar",
          "Bihar",
          "Bihar",
          "Bihar",
          "Bihar",
          "Bihar",
          "Bihar",
          "Bihar",
          "Bihar",
          "Bihar",
          "Bihar",
          "Bihar",
          "Bihar",
          "Bihar",
          "Bihar",
          "Bihar",
          "Bihar",
          "Bihar",
          "Bihar",
          "Bihar",
          "Bihar",
          "Bihar",
          "Bihar",
          "Bihar",
          "Bihar",
          "Bihar",
          "Bihar",
          "Chandigarh",
          "Chhattisgarh",
          "Chhattisgarh",
          "Chhattisgarh",
          "Chhattisgarh",
          "Chhattisgarh",
          "Chhattisgarh",
          "Chhattisgarh",
          "Chhattisgarh",
          "Chhattisgarh",
          "Chhattisgarh",
          "Chhattisgarh",
          "Chhattisgarh",
          "Chhattisgarh",
          "Chhattisgarh",
          "Chhattisgarh",
          "Chhattisgarh",
          "Chhattisgarh",
          "Chhattisgarh",
          "Chhattisgarh",
          "Chhattisgarh",
          "Chhattisgarh",
          "Chhattisgarh",
          "Chhattisgarh",
          "Chhattisgarh",
          "Chhattisgarh",
          "Chhattisgarh",
          "Chhattisgarh",
          "Dadra and Nagar Haveli and Daman and Diu",
          "Dadra and Nagar Haveli and Daman and Diu",
          "Dadra and Nagar Haveli and Daman and Diu",
          "Delhi",
          "Delhi",
          "Delhi",
          "Delhi",
          "Delhi",
          "Delhi",
          "Delhi",
          "Delhi",
          "Delhi",
          "Delhi",
          "Delhi",
          "Goa",
          "Goa",
          "Gujarat",
          "Gujarat",
          "Gujarat",
          "Gujarat",
          "Gujarat",
          "Gujarat",
          "Gujarat",
          "Gujarat",
          "Gujarat",
          "Gujarat",
          "Gujarat",
          "Gujarat",
          "Gujarat",
          "Gujarat",
          "Gujarat",
          "Gujarat",
          "Gujarat",
          "Gujarat",
          "Gujarat",
          "Gujarat",
          "Gujarat",
          "Gujarat",
          "Gujarat",
          "Gujarat",
          "Gujarat",
          "Gujarat",
          "Gujarat",
          "Gujarat",
          "Gujarat",
          "Gujarat",
          "Gujarat",
          "Gujarat",
          "Gujarat",
          "Haryana",
          "Haryana",
          "Haryana",
          "Haryana",
          "Haryana",
          "Haryana",
          "Haryana",
          "Haryana",
          "Haryana",
          "Haryana",
          "Haryana",
          "Haryana",
          "Haryana",
          "Haryana",
          "Haryana",
          "Haryana",
          "Haryana",
          "Haryana",
          "Haryana",
          "Haryana",
          "Haryana",
          "Haryana",
          "Himachal Pradesh",
          "Himachal Pradesh",
          "Himachal Pradesh",
          "Himachal Pradesh",
          "Himachal Pradesh",
          "Himachal Pradesh",
          "Himachal Pradesh",
          "Himachal Pradesh",
          "Himachal Pradesh",
          "Himachal Pradesh",
          "Himachal Pradesh",
          "Himachal Pradesh",
          "Jammu and Kashmir",
          "Jammu and Kashmir",
          "Jammu and Kashmir",
          "Jammu and Kashmir",
          "Jammu and Kashmir",
          "Jammu and Kashmir",
          "Jammu and Kashmir",
          "Jammu and Kashmir",
          "Jammu and Kashmir",
          "Jammu and Kashmir",
          "Jammu and Kashmir",
          "Jammu and Kashmir",
          "Jammu and Kashmir",
          "Jammu and Kashmir",
          "Jammu and Kashmir",
          "Jammu and Kashmir",
          "Jammu and Kashmir",
          "Jammu and Kashmir",
          "Jammu and Kashmir",
          "Jammu and Kashmir",
          "Jammu and Kashmir",
          "Jammu and Kashmir",
          "Jharkhand",
          "Jharkhand",
          "Jharkhand",
          "Jharkhand",
          "Jharkhand",
          "Jharkhand",
          "Jharkhand",
          "Jharkhand",
          "Jharkhand",
          "Jharkhand",
          "Jharkhand",
          "Jharkhand",
          "Jharkhand",
          "Jharkhand",
          "Jharkhand",
          "Jharkhand",
          "Jharkhand",
          "Jharkhand",
          "Jharkhand",
          "Jharkhand",
          "Jharkhand",
          "Jharkhand",
          "Jharkhand",
          "Jharkhand",
          "Karnataka",
          "Karnataka",
          "Karnataka",
          "Karnataka",
          "Karnataka",
          "Karnataka",
          "Karnataka",
          "Karnataka",
          "Karnataka",
          "Karnataka",
          "Karnataka",
          "Karnataka",
          "Karnataka",
          "Karnataka",
          "Karnataka",
          "Karnataka",
          "Karnataka",
          "Karnataka",
          "Karnataka",
          "Karnataka",
          "Karnataka",
          "Karnataka",
          "Karnataka",
          "Karnataka",
          "Karnataka",
          "Karnataka",
          "Karnataka",
          "Karnataka",
          "Karnataka",
          "Karnataka",
          "Kerala",
          "Kerala",
          "Kerala",
          "Kerala",
          "Kerala",
          "Kerala",
          "Kerala",
          "Kerala",
          "Kerala",
          "Kerala",
          "Kerala",
          "Kerala",
          "Kerala",
          "Kerala",
          "Ladakh",
          "Ladakh",
          "Lakshadweep",
          "Madhya Pradesh",
          "Madhya Pradesh",
          "Madhya Pradesh",
          "Madhya Pradesh",
          "Madhya Pradesh",
          "Madhya Pradesh",
          "Madhya Pradesh",
          "Madhya Pradesh",
          "Madhya Pradesh",
          "Madhya Pradesh",
          "Madhya Pradesh",
          "Madhya Pradesh",
          "Madhya Pradesh",
          "Madhya Pradesh",
          "Madhya Pradesh",
          "Madhya Pradesh",
          "Madhya Pradesh",
          "Madhya Pradesh",
          "Madhya Pradesh",
          "Madhya Pradesh",
          "Madhya Pradesh",
          "Madhya Pradesh",
          "Madhya Pradesh",
          "Madhya Pradesh",
          "Madhya Pradesh",
          "Madhya Pradesh",
          "Madhya Pradesh",
          "Madhya Pradesh",
          "Madhya Pradesh",
          "Madhya Pradesh",
          "Madhya Pradesh",
          "Madhya Pradesh",
          "Madhya Pradesh",
          "Madhya Pradesh",
          "Madhya Pradesh",
          "Madhya Pradesh",
          "Madhya Pradesh",
          "Madhya Pradesh",
          "Madhya Pradesh",
          "Madhya Pradesh",
          "Madhya Pradesh",
          "Madhya Pradesh",
          "Madhya Pradesh",
          "Madhya Pradesh",
          "Madhya Pradesh",
          "Madhya Pradesh",
          "Madhya Pradesh",
          "Madhya Pradesh",
          "Madhya Pradesh",
          "Madhya Pradesh",
          "Madhya Pradesh",
          "Madhya Pradesh",
          "Maharashtra",
          "Maharashtra",
          "Maharashtra",
          "Maharashtra",
          "Maharashtra",
          "Maharashtra",
          "Maharashtra",
          "Maharashtra",
          "Maharashtra",
          "Maharashtra",
          "Maharashtra",
          "Maharashtra",
          "Maharashtra",
          "Maharashtra",
          "Maharashtra",
          "Maharashtra",
          "Maharashtra",
          "Maharashtra",
          "Maharashtra",
          "Maharashtra",
          "Maharashtra",
          "Maharashtra",
          "Maharashtra",
          "Maharashtra",
          "Maharashtra",
          "Maharashtra",
          "Maharashtra",
          "Maharashtra",
          "Maharashtra",
          "Maharashtra",
          "Maharashtra",
          "Maharashtra",
          "Maharashtra",
          "Maharashtra",
          "Maharashtra",
          "Maharashtra",
          "Manipur",
          "Manipur",
          "Manipur",
          "Manipur",
          "Manipur",
          "Manipur",
          "Manipur",
          "Manipur",
          "Manipur",
          "Manipur",
          "Manipur",
          "Manipur",
          "Manipur",
          "Manipur",
          "Manipur",
          "Manipur",
          "Meghalaya",
          "Meghalaya",
          "Meghalaya",
          "Meghalaya",
          "Meghalaya",
          "Meghalaya",
          "Meghalaya",
          "Meghalaya",
          "Meghalaya",
          "Meghalaya",
          "Meghalaya",
          "Mizoram",
          "Mizoram",
          "Mizoram",
          "Mizoram",
          "Mizoram",
          "Mizoram",
          "Mizoram",
          "Mizoram",
          "Nagaland",
          "Nagaland",
          "Nagaland",
          "Nagaland",
          "Nagaland",
          "Nagaland",
          "Nagaland",
          "Nagaland",
          "Nagaland",
          "Nagaland",
          "Nagaland",
          "Odisha",
          "Odisha",
          "Odisha",
          "Odisha",
          "Odisha",
          "Odisha",
          "Odisha",
          "Odisha",
          "Odisha",
          "Odisha",
          "Odisha",
          "Odisha",
          "Odisha",
          "Odisha",
          "Odisha",
          "Odisha",
          "Odisha",
          "Odisha",
          "Odisha",
          "Odisha",
          "Odisha",
          "Odisha",
          "Odisha",
          "Odisha",
          "Odisha",
          "Odisha",
          "Odisha",
          "Odisha",
          "Odisha",
          "Odisha",
          "Puducherry",
          "Puducherry",
          "Puducherry",
          "Puducherry",
          "Punjab",
          "Punjab",
          "Punjab",
          "Punjab",
          "Punjab",
          "Punjab",
          "Punjab",
          "Punjab",
          "Punjab",
          "Punjab",
          "Punjab",
          "Punjab",
          "Punjab",
          "Punjab",
          "Punjab",
          "Punjab",
          "Punjab",
          "Punjab",
          "Punjab",
          "Punjab",
          "Punjab",
          "Punjab",
          "Rajasthan",
          "Rajasthan",
          "Rajasthan",
          "Rajasthan",
          "Rajasthan",
          "Rajasthan",
          "Rajasthan",
          "Rajasthan",
          "Rajasthan",
          "Rajasthan",
          "Rajasthan",
          "Rajasthan",
          "Rajasthan",
          "Rajasthan",
          "Rajasthan",
          "Rajasthan",
          "Rajasthan",
          "Rajasthan",
          "Rajasthan",
          "Rajasthan",
          "Rajasthan",
          "Rajasthan",
          "Rajasthan",
          "Rajasthan",
          "Rajasthan",
          "Rajasthan",
          "Rajasthan",
          "Rajasthan",
          "Rajasthan",
          "Rajasthan",
          "Rajasthan",
          "Rajasthan",
          "Rajasthan",
          "Sikkim",
          "Sikkim",
          "Sikkim",
          "Sikkim",
          "Tamil Nadu",
          "Tamil Nadu",
          "Tamil Nadu",
          "Tamil Nadu",
          "Tamil Nadu",
          "Tamil Nadu",
          "Tamil Nadu",
          "Tamil Nadu",
          "Tamil Nadu",
          "Tamil Nadu",
          "Tamil Nadu",
          "Tamil Nadu",
          "Tamil Nadu",
          "Tamil Nadu",
          "Tamil Nadu",
          "Tamil Nadu",
          "Tamil Nadu",
          "Tamil Nadu",
          "Tamil Nadu",
          "Tamil Nadu",
          "Tamil Nadu",
          "Tamil Nadu",
          "Tamil Nadu",
          "Tamil Nadu",
          "Tamil Nadu",
          "Tamil Nadu",
          "Tamil Nadu",
          "Tamil Nadu",
          "Tamil Nadu",
          "Tamil Nadu",
          "Tamil Nadu",
          "Tamil Nadu",
          "Tamil Nadu",
          "Tamil Nadu",
          "Tamil Nadu",
          "Tamil Nadu",
          "Tamil Nadu",
          "Telangana",
          "Telangana",
          "Telangana",
          "Telangana",
          "Telangana",
          "Telangana",
          "Telangana",
          "Telangana",
          "Telangana",
          "Telangana",
          "Telangana",
          "Telangana",
          "Telangana",
          "Telangana",
          "Telangana",
          "Telangana",
          "Telangana",
          "Telangana",
          "Telangana",
          "Telangana",
          "Telangana",
          "Telangana",
          "Telangana",
          "Telangana",
          "Telangana",
          "Telangana",
          "Telangana",
          "Telangana",
          "Telangana",
          "Telangana",
          "Telangana",
          "Telangana",
          "Telangana",
          "Tripura",
          "Tripura",
          "Tripura",
          "Tripura",
          "Tripura",
          "Tripura",
          "Tripura",
          "Tripura",
          "Uttar Pradesh",
          "Uttar Pradesh",
          "Uttar Pradesh",
          "Uttar Pradesh",
          "Uttar Pradesh",
          "Uttar Pradesh",
          "Uttar Pradesh",
          "Uttar Pradesh",
          "Uttar Pradesh",
          "Uttar Pradesh",
          "Uttar Pradesh",
          "Uttar Pradesh",
          "Uttar Pradesh",
          "Uttar Pradesh",
          "Uttar Pradesh",
          "Uttar Pradesh",
          "Uttar Pradesh",
          "Uttar Pradesh",
          "Uttar Pradesh",
          "Uttar Pradesh",
          "Uttar Pradesh",
          "Uttar Pradesh",
          "Uttar Pradesh",
          "Uttar Pradesh",
          "Uttar Pradesh",
          "Uttar Pradesh",
          "Uttar Pradesh",
          "Uttar Pradesh",
          "Uttar Pradesh",
          "Uttar Pradesh",
          "Uttar Pradesh",
          "Uttar Pradesh",
          "Uttar Pradesh",
          "Uttar Pradesh",
          "Uttar Pradesh",
          "Uttar Pradesh",
          "Uttar Pradesh",
          "Uttar Pradesh",
          "Uttar Pradesh",
          "Uttar Pradesh",
          "Uttar Pradesh",
          "Uttar Pradesh",
          "Uttar Pradesh",
          "Uttar Pradesh",
          "Uttar Pradesh",
          "Uttar Pradesh",
          "Uttar Pradesh",
          "Uttar Pradesh",
          "Uttar Pradesh",
          "Uttar Pradesh",
          "Uttar Pradesh",
          "Uttar Pradesh",
          "Uttar Pradesh",
          "Uttar Pradesh",
          "Uttar Pradesh",
          "Uttar Pradesh",
          "Uttar Pradesh",
          "Uttar Pradesh",
          "Uttar Pradesh",
          "Uttar Pradesh",
          "Uttar Pradesh",
          "Uttar Pradesh",
          "Uttar Pradesh",
          "Uttar Pradesh",
          "Uttar Pradesh",
          "Uttar Pradesh",
          "Uttar Pradesh",
          "Uttar Pradesh",
          "Uttar Pradesh",
          "Uttar Pradesh",
          "Uttar Pradesh",
          "Uttar Pradesh",
          "Uttar Pradesh",
          "Uttar Pradesh",
          "Uttar Pradesh",
          "Uttarakhand",
          "Uttarakhand",
          "Uttarakhand",
          "Uttarakhand",
          "Uttarakhand",
          "Uttarakhand",
          "Uttarakhand",
          "Uttarakhand",
          "Uttarakhand",
          "Uttarakhand",
          "Uttarakhand",
          "Uttarakhand",
          "Uttarakhand",
          "West Bengal",
          "West Bengal",
          "West Bengal",
          "West Bengal",
          "West Bengal",
          "West Bengal",
          "West Bengal",
          "West Bengal",
          "West Bengal",
          "West Bengal",
          "West Bengal",
          "West Bengal",
          "West Bengal",
          "West Bengal",
          "West Bengal",
          "West Bengal",
          "West Bengal",
          "West Bengal",
          "West Bengal",
          "West Bengal",
          "West Bengal",
          "West Bengal",
          "West Bengal"
         ],
         "xaxis": "x",
         "y": [
          771434,
          1316721,
          17437502,
          763145520,
          1110036773,
          1053549579,
          1070599026,
          1156826105,
          684337674,
          600415936,
          736546255,
          391703186,
          1634322078,
          368015389,
          715869128,
          559962383,
          516284,
          4332348,
          85853,
          1298466,
          4894199,
          330371,
          366685,
          277468,
          832975,
          4262702,
          1043518,
          2193737,
          808964,
          2376537,
          2860159,
          226672,
          29324639,
          79963,
          712032,
          2648440,
          1533609,
          958137,
          1633504,
          6530923,
          2969787,
          18226359,
          73414685,
          12358877,
          29045671,
          46613785,
          8152162,
          10839048,
          30245574,
          14083871,
          40587426,
          35881808,
          5501540,
          36793526,
          19330017,
          17444069,
          17891671,
          23881891,
          43041904,
          361750820,
          13375009,
          25010492,
          19798063,
          21161221,
          2244287,
          27806610,
          55859148,
          15262511,
          13750007,
          44664014,
          12932358,
          28311076,
          14250183,
          2291888,
          115405319,
          22992819,
          110465758,
          49130634,
          122264941,
          162521953,
          91364863,
          52327803,
          178198445,
          205415248,
          125912228,
          65511475,
          41293096,
          47242740,
          147077289,
          61581997,
          65290520,
          34153383,
          79323139,
          177347290,
          51644176,
          275312158,
          110247097,
          76122114,
          208948521,
          1356576343,
          282089037,
          165564470,
          124325426,
          88914778,
          172861748,
          173961759,
          18009058,
          22779454,
          126625753,
          174708995,
          93082495,
          159265436,
          138522351,
          30570531,
          63513075,
          30873315,
          49575928,
          30383991,
          14373490,
          195886565,
          17025330,
          31853630,
          279879466,
          22227769,
          108902150,
          33094773,
          35355981,
          33773887,
          20927052,
          110879739,
          36831577,
          56773735,
          24801213,
          6585452,
          122886546,
          465868534,
          72730925,
          11107266,
          37522776,
          66919240,
          66078446,
          34566148,
          2155727,
          1548098910,
          302712149,
          846373750,
          311475769,
          177266328,
          323835427,
          180769092,
          307025990,
          514257619,
          298549599,
          501289951,
          140511184,
          69524821,
          1209074784,
          23007064,
          56081200,
          35627822,
          176263358,
          164797189,
          60942207,
          22556573,
          9600305,
          12609086,
          35434800,
          180338771,
          24438961,
          49050095,
          22453997,
          140851992,
          50306165,
          112203445,
          15492201,
          42531285,
          12168765,
          50332589,
          42365101,
          57697166,
          7593439,
          103418530,
          63795049,
          593573050,
          37382487,
          25082921,
          4560600,
          262950009,
          140496288,
          74552606,
          81000756,
          25236222,
          504326882,
          38273171,
          1318250624,
          148494759,
          115382507,
          52468044,
          34667984,
          108579632,
          67609646,
          93099923,
          165850179,
          169602807,
          45678894,
          138404779,
          186972715,
          117049715,
          57244378,
          175903994,
          47068972,
          10072008,
          12658198,
          16000590,
          49319556,
          3793288,
          21819961,
          1520122,
          24042533,
          63572205,
          20289558,
          63822993,
          18259233,
          21166719,
          7087870,
          25641748,
          20066760,
          7471400,
          7059692,
          107985555,
          15812582,
          4144607,
          9932593,
          18878638,
          1124129,
          208517,
          13915936,
          14566542,
          11659144,
          6749956,
          10518377,
          15525767,
          5991616,
          47932819,
          18049894,
          197839663,
          52055007,
          66263122,
          227897970,
          29329633,
          209721936,
          69917975,
          135258647,
          37816740,
          17265613,
          187193462,
          13089946,
          13942612,
          65343096,
          34237920,
          17383197,
          17631549,
          122705352,
          94064880,
          482609366,
          34476257,
          61986562,
          8829419,
          33635500,
          202731328,
          423426237,
          503543326,
          495576187,
          10894602908,
          248634047,
          72433889,
          218516303,
          135960478,
          178676368,
          305642755,
          308792154,
          427788774,
          101266933,
          252119504,
          123389656,
          330486254,
          61920878,
          323886116,
          160755208,
          238192290,
          647989087,
          223751274,
          254320369,
          279395206,
          405743373,
          124268857,
          120545204,
          259638269,
          92310525,
          66843810,
          377321553,
          35034857,
          86987412,
          42337755,
          83373058,
          66662616,
          154217810,
          151015568,
          77224055,
          32147648,
          146473918,
          112355810,
          44757598,
          3982864,
          14423382,
          338478,
          47256014,
          14575726,
          45092750,
          41863292,
          106347084,
          61490976,
          101468911,
          68758858,
          1672182146,
          47328780,
          82113989,
          548708561,
          46904946,
          35448012,
          175781335,
          204553943,
          23277235,
          87312211,
          95124023,
          300891106,
          37233279,
          100269814,
          1415417953,
          251304774,
          36494121,
          69287602,
          121141997,
          40080736,
          106178264,
          93693114,
          69386797,
          65936306,
          16046553,
          35213028,
          114777628,
          127141931,
          117730532,
          148422815,
          141899320,
          129188312,
          153255611,
          80134176,
          80287388,
          82044684,
          25188089,
          89228560,
          56555034,
          111458569,
          43747159,
          235569265,
          30338053,
          96275734,
          680922105,
          134789033,
          259413042,
          877451573,
          254340794,
          68748696,
          225322215,
          161077328,
          163133743,
          49455925,
          69809180,
          74018874,
          341694592,
          190755447,
          321689669,
          297038248,
          524715021,
          1632579258,
          852383960,
          301514969,
          72779387,
          1109430679,
          189449906,
          335216921,
          164020862,
          6121029149,
          437662348,
          49231205,
          250083077,
          324970289,
          25226331,
          678050567,
          1277583097,
          86444889,
          403859157,
          158416079,
          1886227,
          588909,
          1809141,
          4975737,
          35052276,
          604150,
          904468,
          129390,
          1767358,
          318281,
          47563,
          635706,
          658409,
          579798,
          2378218,
          655302,
          960424,
          4300859,
          17194654,
          949496,
          6135313,
          790116,
          1023858,
          275059,
          9342652,
          1146745,
          618816,
          5779071,
          496344,
          910713,
          967544,
          1290356,
          654482,
          311569,
          458927,
          17292537,
          350992,
          5660346,
          291392,
          1413898,
          1370293,
          444897,
          778096,
          784350,
          1033491,
          587640,
          142220228,
          89975082,
          209033406,
          74758326,
          144859640,
          20478151,
          391391796,
          12920088,
          107134140,
          36351294,
          295161351,
          124789030,
          227576693,
          84561494,
          86519224,
          35467708,
          113250861,
          158305704,
          1604842834,
          87986568,
          27818371,
          110285587,
          41968242,
          76165438,
          28023524,
          195121630,
          79594070,
          122012053,
          31784705,
          182926110,
          6916625,
          2042872,
          89075269,
          7990298,
          78702355,
          8858257,
          44569860,
          12441612,
          17830541,
          38279835,
          20195600,
          26504881,
          27611001,
          70324060,
          39787096,
          299600257,
          10186530,
          14413098,
          28712905,
          64605310,
          19463266,
          28781990,
          178762953,
          7479875,
          14950317,
          18803642,
          364112399,
          555397024,
          46669773,
          69006093,
          228141784,
          164144686,
          358593284,
          234510381,
          86802230,
          146806373,
          143276433,
          212846087,
          63427600,
          32936187,
          202212830,
          133098863,
          3692831042,
          93271323,
          91357945,
          100283926,
          208500484,
          544540232,
          101650013,
          352323919,
          260922463,
          145181256,
          35963523,
          86268604,
          135780135,
          337589483,
          67571113,
          146095496,
          269221219,
          23233388,
          2883300,
          6457121,
          3647914,
          17049359,
          554119453,
          878284438,
          452246785,
          70692999,
          94340054,
          78373120,
          108496040,
          47448874,
          255888675,
          51892647,
          34397276,
          233629442,
          146705054,
          29068801,
          69015791,
          16141313,
          31573214,
          28409796,
          51940741,
          232993030,
          33543357,
          26920946,
          55514429,
          33740163,
          40874819,
          399242401,
          19209794,
          46237345,
          103496119,
          50571468,
          66571829,
          226328933,
          72699364,
          92407403,
          53943931,
          48005362,
          75466425,
          208114221,
          5901014893,
          140319820,
          114356010,
          73417284,
          79054247,
          126577581,
          281329302,
          286264128,
          54067118,
          107215328,
          177415934,
          187545397,
          110863611,
          2275038078,
          42666356,
          148433086,
          325092669,
          52878468,
          85840019,
          264100903,
          185383134,
          92009551,
          2816377583,
          564154294,
          218934532,
          190506661,
          122832413,
          79543613,
          111552987,
          461091426,
          185988418,
          4995964,
          5139723,
          2934029,
          7393963,
          5862515,
          5661335,
          3552234,
          31122807,
          295918724,
          199385018,
          60027006,
          52831713,
          83470068,
          43810887,
          88461530,
          131988848,
          68984319,
          49894094,
          109733272,
          36935783,
          30215258,
          65260110,
          175282303,
          76500396,
          39212197,
          122449061,
          60419135,
          168027367,
          62709022,
          19748309,
          120547747,
          51844319,
          62543190,
          53935960,
          40930966,
          91828717,
          1260903335,
          649497754,
          113635492,
          71974548,
          216819538,
          28974546,
          96117381,
          55845846,
          56242770,
          56669037,
          133176348,
          133176141,
          45987917,
          43363371,
          302717236,
          34683231,
          24127728,
          66148542,
          136139557,
          45516285,
          1064524366,
          68812187,
          26301502,
          62235326,
          197819820,
          63854951,
          290959286,
          60386692,
          144947646,
          132551344,
          42141924,
          79514842,
          333353267,
          52487783,
          66506781,
          182187902,
          61259648,
          43582723,
          55543726,
          59430029,
          11587688,
          69656438,
          58936060,
          80255244,
          63821171,
          50811587,
          313840168,
          14582882,
          5351475,
          12038770,
          7201377,
          349777400,
          179409589,
          67130023,
          27766685,
          12512735,
          8955093,
          22372471,
          130766259,
          8758032,
          47776704,
          119523170,
          140474835,
          43091394,
          116037132,
          234564555,
          283879603,
          65237818,
          26544708,
          6096925,
          94842977,
          1084122730,
          189677858,
          303507681,
          216015423,
          752865057,
          221566813,
          210941452,
          197984497,
          245272129,
          90845831,
          263932702,
          107756272
         ],
         "yaxis": "y"
        }
       ],
       "layout": {
        "barmode": "group",
        "legend": {
         "tracegroupgap": 0
        },
        "margin": {
         "t": 60
        },
        "template": {
         "data": {
          "bar": [
           {
            "error_x": {
             "color": "#2a3f5f"
            },
            "error_y": {
             "color": "#2a3f5f"
            },
            "marker": {
             "line": {
              "color": "#E5ECF6",
              "width": 0.5
             },
             "pattern": {
              "fillmode": "overlay",
              "size": 10,
              "solidity": 0.2
             }
            },
            "type": "bar"
           }
          ],
          "barpolar": [
           {
            "marker": {
             "line": {
              "color": "#E5ECF6",
              "width": 0.5
             },
             "pattern": {
              "fillmode": "overlay",
              "size": 10,
              "solidity": 0.2
             }
            },
            "type": "barpolar"
           }
          ],
          "carpet": [
           {
            "aaxis": {
             "endlinecolor": "#2a3f5f",
             "gridcolor": "white",
             "linecolor": "white",
             "minorgridcolor": "white",
             "startlinecolor": "#2a3f5f"
            },
            "baxis": {
             "endlinecolor": "#2a3f5f",
             "gridcolor": "white",
             "linecolor": "white",
             "minorgridcolor": "white",
             "startlinecolor": "#2a3f5f"
            },
            "type": "carpet"
           }
          ],
          "choropleth": [
           {
            "colorbar": {
             "outlinewidth": 0,
             "ticks": ""
            },
            "type": "choropleth"
           }
          ],
          "contour": [
           {
            "colorbar": {
             "outlinewidth": 0,
             "ticks": ""
            },
            "colorscale": [
             [
              0,
              "#0d0887"
             ],
             [
              0.1111111111111111,
              "#46039f"
             ],
             [
              0.2222222222222222,
              "#7201a8"
             ],
             [
              0.3333333333333333,
              "#9c179e"
             ],
             [
              0.4444444444444444,
              "#bd3786"
             ],
             [
              0.5555555555555556,
              "#d8576b"
             ],
             [
              0.6666666666666666,
              "#ed7953"
             ],
             [
              0.7777777777777778,
              "#fb9f3a"
             ],
             [
              0.8888888888888888,
              "#fdca26"
             ],
             [
              1,
              "#f0f921"
             ]
            ],
            "type": "contour"
           }
          ],
          "contourcarpet": [
           {
            "colorbar": {
             "outlinewidth": 0,
             "ticks": ""
            },
            "type": "contourcarpet"
           }
          ],
          "heatmap": [
           {
            "colorbar": {
             "outlinewidth": 0,
             "ticks": ""
            },
            "colorscale": [
             [
              0,
              "#0d0887"
             ],
             [
              0.1111111111111111,
              "#46039f"
             ],
             [
              0.2222222222222222,
              "#7201a8"
             ],
             [
              0.3333333333333333,
              "#9c179e"
             ],
             [
              0.4444444444444444,
              "#bd3786"
             ],
             [
              0.5555555555555556,
              "#d8576b"
             ],
             [
              0.6666666666666666,
              "#ed7953"
             ],
             [
              0.7777777777777778,
              "#fb9f3a"
             ],
             [
              0.8888888888888888,
              "#fdca26"
             ],
             [
              1,
              "#f0f921"
             ]
            ],
            "type": "heatmap"
           }
          ],
          "heatmapgl": [
           {
            "colorbar": {
             "outlinewidth": 0,
             "ticks": ""
            },
            "colorscale": [
             [
              0,
              "#0d0887"
             ],
             [
              0.1111111111111111,
              "#46039f"
             ],
             [
              0.2222222222222222,
              "#7201a8"
             ],
             [
              0.3333333333333333,
              "#9c179e"
             ],
             [
              0.4444444444444444,
              "#bd3786"
             ],
             [
              0.5555555555555556,
              "#d8576b"
             ],
             [
              0.6666666666666666,
              "#ed7953"
             ],
             [
              0.7777777777777778,
              "#fb9f3a"
             ],
             [
              0.8888888888888888,
              "#fdca26"
             ],
             [
              1,
              "#f0f921"
             ]
            ],
            "type": "heatmapgl"
           }
          ],
          "histogram": [
           {
            "marker": {
             "pattern": {
              "fillmode": "overlay",
              "size": 10,
              "solidity": 0.2
             }
            },
            "type": "histogram"
           }
          ],
          "histogram2d": [
           {
            "colorbar": {
             "outlinewidth": 0,
             "ticks": ""
            },
            "colorscale": [
             [
              0,
              "#0d0887"
             ],
             [
              0.1111111111111111,
              "#46039f"
             ],
             [
              0.2222222222222222,
              "#7201a8"
             ],
             [
              0.3333333333333333,
              "#9c179e"
             ],
             [
              0.4444444444444444,
              "#bd3786"
             ],
             [
              0.5555555555555556,
              "#d8576b"
             ],
             [
              0.6666666666666666,
              "#ed7953"
             ],
             [
              0.7777777777777778,
              "#fb9f3a"
             ],
             [
              0.8888888888888888,
              "#fdca26"
             ],
             [
              1,
              "#f0f921"
             ]
            ],
            "type": "histogram2d"
           }
          ],
          "histogram2dcontour": [
           {
            "colorbar": {
             "outlinewidth": 0,
             "ticks": ""
            },
            "colorscale": [
             [
              0,
              "#0d0887"
             ],
             [
              0.1111111111111111,
              "#46039f"
             ],
             [
              0.2222222222222222,
              "#7201a8"
             ],
             [
              0.3333333333333333,
              "#9c179e"
             ],
             [
              0.4444444444444444,
              "#bd3786"
             ],
             [
              0.5555555555555556,
              "#d8576b"
             ],
             [
              0.6666666666666666,
              "#ed7953"
             ],
             [
              0.7777777777777778,
              "#fb9f3a"
             ],
             [
              0.8888888888888888,
              "#fdca26"
             ],
             [
              1,
              "#f0f921"
             ]
            ],
            "type": "histogram2dcontour"
           }
          ],
          "mesh3d": [
           {
            "colorbar": {
             "outlinewidth": 0,
             "ticks": ""
            },
            "type": "mesh3d"
           }
          ],
          "parcoords": [
           {
            "line": {
             "colorbar": {
              "outlinewidth": 0,
              "ticks": ""
             }
            },
            "type": "parcoords"
           }
          ],
          "pie": [
           {
            "automargin": true,
            "type": "pie"
           }
          ],
          "scatter": [
           {
            "fillpattern": {
             "fillmode": "overlay",
             "size": 10,
             "solidity": 0.2
            },
            "type": "scatter"
           }
          ],
          "scatter3d": [
           {
            "line": {
             "colorbar": {
              "outlinewidth": 0,
              "ticks": ""
             }
            },
            "marker": {
             "colorbar": {
              "outlinewidth": 0,
              "ticks": ""
             }
            },
            "type": "scatter3d"
           }
          ],
          "scattercarpet": [
           {
            "marker": {
             "colorbar": {
              "outlinewidth": 0,
              "ticks": ""
             }
            },
            "type": "scattercarpet"
           }
          ],
          "scattergeo": [
           {
            "marker": {
             "colorbar": {
              "outlinewidth": 0,
              "ticks": ""
             }
            },
            "type": "scattergeo"
           }
          ],
          "scattergl": [
           {
            "marker": {
             "colorbar": {
              "outlinewidth": 0,
              "ticks": ""
             }
            },
            "type": "scattergl"
           }
          ],
          "scattermapbox": [
           {
            "marker": {
             "colorbar": {
              "outlinewidth": 0,
              "ticks": ""
             }
            },
            "type": "scattermapbox"
           }
          ],
          "scatterpolar": [
           {
            "marker": {
             "colorbar": {
              "outlinewidth": 0,
              "ticks": ""
             }
            },
            "type": "scatterpolar"
           }
          ],
          "scatterpolargl": [
           {
            "marker": {
             "colorbar": {
              "outlinewidth": 0,
              "ticks": ""
             }
            },
            "type": "scatterpolargl"
           }
          ],
          "scatterternary": [
           {
            "marker": {
             "colorbar": {
              "outlinewidth": 0,
              "ticks": ""
             }
            },
            "type": "scatterternary"
           }
          ],
          "surface": [
           {
            "colorbar": {
             "outlinewidth": 0,
             "ticks": ""
            },
            "colorscale": [
             [
              0,
              "#0d0887"
             ],
             [
              0.1111111111111111,
              "#46039f"
             ],
             [
              0.2222222222222222,
              "#7201a8"
             ],
             [
              0.3333333333333333,
              "#9c179e"
             ],
             [
              0.4444444444444444,
              "#bd3786"
             ],
             [
              0.5555555555555556,
              "#d8576b"
             ],
             [
              0.6666666666666666,
              "#ed7953"
             ],
             [
              0.7777777777777778,
              "#fb9f3a"
             ],
             [
              0.8888888888888888,
              "#fdca26"
             ],
             [
              1,
              "#f0f921"
             ]
            ],
            "type": "surface"
           }
          ],
          "table": [
           {
            "cells": {
             "fill": {
              "color": "#EBF0F8"
             },
             "line": {
              "color": "white"
             }
            },
            "header": {
             "fill": {
              "color": "#C8D4E3"
             },
             "line": {
              "color": "white"
             }
            },
            "type": "table"
           }
          ]
         },
         "layout": {
          "annotationdefaults": {
           "arrowcolor": "#2a3f5f",
           "arrowhead": 0,
           "arrowwidth": 1
          },
          "autotypenumbers": "strict",
          "coloraxis": {
           "colorbar": {
            "outlinewidth": 0,
            "ticks": ""
           }
          },
          "colorscale": {
           "diverging": [
            [
             0,
             "#8e0152"
            ],
            [
             0.1,
             "#c51b7d"
            ],
            [
             0.2,
             "#de77ae"
            ],
            [
             0.3,
             "#f1b6da"
            ],
            [
             0.4,
             "#fde0ef"
            ],
            [
             0.5,
             "#f7f7f7"
            ],
            [
             0.6,
             "#e6f5d0"
            ],
            [
             0.7,
             "#b8e186"
            ],
            [
             0.8,
             "#7fbc41"
            ],
            [
             0.9,
             "#4d9221"
            ],
            [
             1,
             "#276419"
            ]
           ],
           "sequential": [
            [
             0,
             "#0d0887"
            ],
            [
             0.1111111111111111,
             "#46039f"
            ],
            [
             0.2222222222222222,
             "#7201a8"
            ],
            [
             0.3333333333333333,
             "#9c179e"
            ],
            [
             0.4444444444444444,
             "#bd3786"
            ],
            [
             0.5555555555555556,
             "#d8576b"
            ],
            [
             0.6666666666666666,
             "#ed7953"
            ],
            [
             0.7777777777777778,
             "#fb9f3a"
            ],
            [
             0.8888888888888888,
             "#fdca26"
            ],
            [
             1,
             "#f0f921"
            ]
           ],
           "sequentialminus": [
            [
             0,
             "#0d0887"
            ],
            [
             0.1111111111111111,
             "#46039f"
            ],
            [
             0.2222222222222222,
             "#7201a8"
            ],
            [
             0.3333333333333333,
             "#9c179e"
            ],
            [
             0.4444444444444444,
             "#bd3786"
            ],
            [
             0.5555555555555556,
             "#d8576b"
            ],
            [
             0.6666666666666666,
             "#ed7953"
            ],
            [
             0.7777777777777778,
             "#fb9f3a"
            ],
            [
             0.8888888888888888,
             "#fdca26"
            ],
            [
             1,
             "#f0f921"
            ]
           ]
          },
          "colorway": [
           "#636efa",
           "#EF553B",
           "#00cc96",
           "#ab63fa",
           "#FFA15A",
           "#19d3f3",
           "#FF6692",
           "#B6E880",
           "#FF97FF",
           "#FECB52"
          ],
          "font": {
           "color": "#2a3f5f"
          },
          "geo": {
           "bgcolor": "white",
           "lakecolor": "white",
           "landcolor": "#E5ECF6",
           "showlakes": true,
           "showland": true,
           "subunitcolor": "white"
          },
          "hoverlabel": {
           "align": "left"
          },
          "hovermode": "closest",
          "mapbox": {
           "style": "light"
          },
          "paper_bgcolor": "white",
          "plot_bgcolor": "#E5ECF6",
          "polar": {
           "angularaxis": {
            "gridcolor": "white",
            "linecolor": "white",
            "ticks": ""
           },
           "bgcolor": "#E5ECF6",
           "radialaxis": {
            "gridcolor": "white",
            "linecolor": "white",
            "ticks": ""
           }
          },
          "scene": {
           "xaxis": {
            "backgroundcolor": "#E5ECF6",
            "gridcolor": "white",
            "gridwidth": 2,
            "linecolor": "white",
            "showbackground": true,
            "ticks": "",
            "zerolinecolor": "white"
           },
           "yaxis": {
            "backgroundcolor": "#E5ECF6",
            "gridcolor": "white",
            "gridwidth": 2,
            "linecolor": "white",
            "showbackground": true,
            "ticks": "",
            "zerolinecolor": "white"
           },
           "zaxis": {
            "backgroundcolor": "#E5ECF6",
            "gridcolor": "white",
            "gridwidth": 2,
            "linecolor": "white",
            "showbackground": true,
            "ticks": "",
            "zerolinecolor": "white"
           }
          },
          "shapedefaults": {
           "line": {
            "color": "#2a3f5f"
           }
          },
          "ternary": {
           "aaxis": {
            "gridcolor": "white",
            "linecolor": "white",
            "ticks": ""
           },
           "baxis": {
            "gridcolor": "white",
            "linecolor": "white",
            "ticks": ""
           },
           "bgcolor": "#E5ECF6",
           "caxis": {
            "gridcolor": "white",
            "linecolor": "white",
            "ticks": ""
           }
          },
          "title": {
           "x": 0.05
          },
          "xaxis": {
           "automargin": true,
           "gridcolor": "white",
           "linecolor": "white",
           "ticks": "",
           "title": {
            "standoff": 15
           },
           "zerolinecolor": "white",
           "zerolinewidth": 2
          },
          "yaxis": {
           "automargin": true,
           "gridcolor": "white",
           "linecolor": "white",
           "ticks": "",
           "title": {
            "standoff": 15
           },
           "zerolinecolor": "white",
           "zerolinewidth": 2
          }
         }
        },
        "xaxis": {
         "anchor": "y",
         "domain": [
          0,
          1
         ],
         "title": {
          "text": "State"
         }
        },
        "yaxis": {
         "anchor": "x",
         "domain": [
          0,
          1
         ],
         "title": {
          "text": "Transacion_count"
         }
        }
       }
      }
     },
     "metadata": {},
     "output_type": "display_data"
    }
   ],
   "source": [
    "t=Map_Trans.groupby([\"State\",\"Districts\"])[[\"Transacion_count\",\"Transacion_amount\"]].sum().reset_index()\n",
    "fig = px.bar(t, x=\"State\", y=\"Transacion_count\", barmode=\"group\",hover_name=\"Districts\",\n",
    "             category_orders={\"day\": [\"Districts\"],\n",
    "                              \"smoker\": [\"Yes\", \"No\"],\n",
    "                              \"sex\": [\"Male\", \"Female\"]})\n",
    "fig.show()"
   ]
  },
  {
   "cell_type": "code",
   "execution_count": 52,
   "metadata": {},
   "outputs": [],
   "source": []
  },
  {
   "cell_type": "code",
   "execution_count": 86,
   "metadata": {},
   "outputs": [],
   "source": [
    "def maptrans(df,Year,Quater):\n",
    "    tat=df[(df.Year==Year) & (df.Quater==Quater)]\n",
    "    tat.reset_index(drop=True, inplace=True)\n",
    "    t=tat.groupby([\"State\",\"Districts\"])[[\"Transacion_count\",\"Transacion_amount\"]].sum().reset_index()\n",
    "\n",
    "\n",
    "    # fig=px.bar(t,x=\"State\",y=\"Transacion_amount\",hover_name=\"Transacion_count\",color=\"Districts\",width=900,height=900)\n",
    "    fig = px.sunburst(t, path=['State', 'Districts'], values='Transacion_count',hover_name=\"Districts\",width=700,height=700,title=\"Transacion_count\")\n",
    "    fig.show()\n",
    "    fig1 = px.sunburst(t, path=['State', 'Districts'], values='Transacion_amount',hover_name=\"Districts\",width=700,height=700,title=\"Transacion_amount\")\n",
    "    fig1.show()\n",
    "    "
   ]
  },
  {
   "cell_type": "code",
   "execution_count": null,
   "metadata": {},
   "outputs": [],
   "source": [
    "maptrans(Map_Trans,2021,3)"
   ]
  },
  {
   "cell_type": "code",
   "execution_count": null,
   "metadata": {},
   "outputs": [],
   "source": [
    "data=Map_Trans[Map_Trans.Year==2022]\n",
    "data.reset_index(drop=True, inplace=True)\n",
    "datasum=data.groupby(\"State\")[[\"Transacion_amount\"]].sum()\n",
    "\n",
    "datasum.reset_index(inplace=True)\n",
    "fig=px.bar(datasum,x=\"State\",y=\"Transacion_amount\",title=f\"{2022} Transacion_amount\",width=700,color_discrete_sequence=['#782AB6'])\n",
    "fig.show()\n",
    "datasum=data.groupby(\"State\")[[\"Transacion_count\"]].sum()\n",
    "\n",
    "datasum.reset_index(inplace=True)\n",
    "fig=px.bar(datasum,x=\"State\",y=\"Transacion_count\",title=f\"{2022} Transacion_count\",width=700,pattern_shape_sequence=[\"+\"],color_discrete_sequence=['#85660D'])\n",
    "fig.show()\n"
   ]
  },
  {
   "cell_type": "code",
   "execution_count": 5,
   "metadata": {},
   "outputs": [],
   "source": [
    "db=psycopg2.connect(host='localhost',user='postgres',password='11001100',database='phonepay',port=5432)\n",
    "access=db.cursor()\n",
    "access.execute(\"Select * from Agg_Trans\")\n",
    "db.commit()\n",
    "tab5=access.fetchall()\n",
    "Agg_Trans=pd.DataFrame(tab5,columns=(\"State\",\"Year\",\"Quater\",\"Transaction_type\",\"Transacion_count\",\"Transacion_amount\"))\n",
    "\n"
   ]
  },
  {
   "cell_type": "code",
   "execution_count": 165,
   "metadata": {},
   "outputs": [
    {
     "ename": "ValueError",
     "evalue": "The first argument to the plotly.graph_objs.Histogram\nconstructor must be a dict or\nan instance of :class:`plotly.graph_objs.Histogram`",
     "output_type": "error",
     "traceback": [
      "\u001b[1;31m---------------------------------------------------------------------------\u001b[0m",
      "\u001b[1;31mValueError\u001b[0m                                Traceback (most recent call last)",
      "Cell \u001b[1;32mIn[165], line 9\u001b[0m\n\u001b[0;32m      7\u001b[0m \u001b[38;5;66;03m# st.write(data)\u001b[39;00m\n\u001b[0;32m      8\u001b[0m fig \u001b[38;5;241m=\u001b[39m go\u001b[38;5;241m.\u001b[39mFigure()\n\u001b[1;32m----> 9\u001b[0m fig\u001b[38;5;241m.\u001b[39madd_trace(\u001b[43mgo\u001b[49m\u001b[38;5;241;43m.\u001b[39;49m\u001b[43mHistogram\u001b[49m\u001b[43m(\u001b[49m\u001b[43mdata\u001b[49m\u001b[43m,\u001b[49m\u001b[43m \u001b[49m\u001b[43my\u001b[49m\u001b[38;5;241;43m=\u001b[39;49m\u001b[38;5;124;43m'\u001b[39;49m\u001b[38;5;124;43mStates\u001b[39;49m\u001b[38;5;124;43m'\u001b[39;49m\u001b[43m,\u001b[49m\u001b[43m \u001b[49m\u001b[43mx\u001b[49m\u001b[38;5;241;43m=\u001b[39;49m\u001b[38;5;124;43m'\u001b[39;49m\u001b[38;5;124;43mTransaction_Count\u001b[39;49m\u001b[38;5;124;43m'\u001b[39;49m\u001b[43m,\u001b[49m\u001b[43m \u001b[49m\u001b[43mname\u001b[49m\u001b[38;5;241;43m=\u001b[39;49m\u001b[38;5;124;43m\"\u001b[39;49m\u001b[38;5;124;43mcount\u001b[39;49m\u001b[38;5;124;43m\"\u001b[39;49m\u001b[43m)\u001b[49m)\n\u001b[0;32m     10\u001b[0m fig\u001b[38;5;241m.\u001b[39madd_trace(go\u001b[38;5;241m.\u001b[39mHistogram(data,y\u001b[38;5;241m=\u001b[39m\u001b[38;5;124m'\u001b[39m\u001b[38;5;124mStates\u001b[39m\u001b[38;5;124m'\u001b[39m, x\u001b[38;5;241m=\u001b[39m\u001b[38;5;124m'\u001b[39m\u001b[38;5;124mTransaction_Amount\u001b[39m\u001b[38;5;124m'\u001b[39m, name\u001b[38;5;241m=\u001b[39m\u001b[38;5;124m\"\u001b[39m\u001b[38;5;124msum\u001b[39m\u001b[38;5;124m\"\u001b[39m))\n\u001b[0;32m     12\u001b[0m fig\u001b[38;5;241m.\u001b[39mshow()\n",
      "File \u001b[1;32m~\\AppData\\Local\\Packages\\PythonSoftwareFoundation.Python.3.12_qbz5n2kfra8p0\\LocalCache\\local-packages\\Python312\\site-packages\\plotly\\graph_objs\\_histogram.py:2943\u001b[0m, in \u001b[0;36mHistogram.__init__\u001b[1;34m(self, arg, alignmentgroup, autobinx, autobiny, bingroup, cliponaxis, constraintext, cumulative, customdata, customdatasrc, error_x, error_y, histfunc, histnorm, hoverinfo, hoverinfosrc, hoverlabel, hovertemplate, hovertemplatesrc, hovertext, hovertextsrc, ids, idssrc, insidetextanchor, insidetextfont, legend, legendgroup, legendgrouptitle, legendrank, legendwidth, marker, meta, metasrc, name, nbinsx, nbinsy, offsetgroup, opacity, orientation, outsidetextfont, selected, selectedpoints, showlegend, stream, text, textangle, textfont, textposition, textsrc, texttemplate, uid, uirevision, unselected, visible, x, xaxis, xbins, xcalendar, xhoverformat, xsrc, y, yaxis, ybins, ycalendar, yhoverformat, ysrc, **kwargs)\u001b[0m\n\u001b[0;32m   2941\u001b[0m             arg \u001b[38;5;241m=\u001b[39m _copy\u001b[38;5;241m.\u001b[39mcopy(arg)\n\u001b[0;32m   2942\u001b[0m         \u001b[38;5;28;01melse\u001b[39;00m:\n\u001b[1;32m-> 2943\u001b[0m             \u001b[38;5;28;01mraise\u001b[39;00m \u001b[38;5;167;01mValueError\u001b[39;00m(\n\u001b[0;32m   2944\u001b[0m \u001b[38;5;250m                \u001b[39m\u001b[38;5;124;03m\"\"\"\\\u001b[39;00m\n\u001b[0;32m   2945\u001b[0m \u001b[38;5;124;03mThe first argument to the plotly.graph_objs.Histogram\u001b[39;00m\n\u001b[0;32m   2946\u001b[0m \u001b[38;5;124;03mconstructor must be a dict or\u001b[39;00m\n\u001b[0;32m   2947\u001b[0m \u001b[38;5;124;03man instance of :class:`plotly.graph_objs.Histogram`\"\"\"\u001b[39;00m\n\u001b[0;32m   2948\u001b[0m             )\n\u001b[0;32m   2950\u001b[0m         \u001b[38;5;66;03m# Handle skip_invalid\u001b[39;00m\n\u001b[0;32m   2951\u001b[0m         \u001b[38;5;66;03m# -------------------\u001b[39;00m\n\u001b[0;32m   2952\u001b[0m         \u001b[38;5;28mself\u001b[39m\u001b[38;5;241m.\u001b[39m_skip_invalid \u001b[38;5;241m=\u001b[39m kwargs\u001b[38;5;241m.\u001b[39mpop(\u001b[38;5;124m\"\u001b[39m\u001b[38;5;124mskip_invalid\u001b[39m\u001b[38;5;124m\"\u001b[39m, \u001b[38;5;28;01mFalse\u001b[39;00m)\n",
      "\u001b[1;31mValueError\u001b[0m: The first argument to the plotly.graph_objs.Histogram\nconstructor must be a dict or\nan instance of :class:`plotly.graph_objs.Histogram`"
     ]
    }
   ],
   "source": [
    "Query1='''select state, sum(transaction_count)as transaction_count,sum(transaction_amount)as transaction_amount from agg_trans  group by state order by transaction_amount desc limit 10'''\n",
    "access.execute(Query1)\n",
    "db.commit()\n",
    "t1=access.fetchall()\n",
    "data=pd.DataFrame(t1,columns=['States','Transaction_Count','Transaction_Amount'])\n",
    "data\n",
    "# st.write(data)\n",
    "# fig = go.Figure()\n",
    "# fig.add_trace(go.Histogram(data, y='States', x='Transaction_Count', name=\"count\"))\n",
    "# fig.add_trace(go.Histogram(data,y='States', x='Transaction_Amount', name=\"sum\"))\n",
    "\n",
    "# fig.show()\n",
    "\n",
    "\n",
    "\n",
    "\n",
    "import numpy as np\n",
    "x0 = np.random.randn(500)\n",
    "x1 = np.random.randn(500) + 1\n",
    "\n",
    "fig = go.Figure()\n",
    "fig.add_trace(go.Histogram(\n",
    "    x=x0,\n",
    "    histnorm='percent',\n",
    "    name='Transaction_Count', # name used in legend and hover labels\n",
    "    xbins=dict( # bins used for histogram\n",
    "        start=-4.0,\n",
    "        end=3.0,\n",
    "        size=0.5\n",
    "    ),\n",
    "    marker_color='#EB89B5',\n",
    "    opacity=0.75\n",
    "))\n",
    "fig.add_trace(go.Histogram(\n",
    "    x=x1,\n",
    "    histnorm='percent',\n",
    "    name='Transaction_Amount',\n",
    "    xbins=dict(\n",
    "        start=-3.0,\n",
    "        end=4,\n",
    "        size=0.5\n",
    "    ),\n",
    "    marker_color='#330C73',\n",
    "    opacity=0.75\n",
    "))\n",
    "\n",
    "fig.update_layout(\n",
    "    title_text='Sampled Results', # title of plot\n",
    "    xaxis_title_text='Value', # xaxis label\n",
    "    yaxis_title_text='Count', # yaxis label\n",
    "    bargap=0.2, # gap between bars of adjacent location coordinates\n",
    "    bargroupgap=0.1 # gap between bars of the same location coordinates\n",
    ")\n",
    "\n",
    "fig.show()\n"
   ]
  },
  {
   "cell_type": "code",
   "execution_count": 51,
   "metadata": {},
   "outputs": [
    {
     "data": {
      "text/html": [
       "<div>\n",
       "<style scoped>\n",
       "    .dataframe tbody tr th:only-of-type {\n",
       "        vertical-align: middle;\n",
       "    }\n",
       "\n",
       "    .dataframe tbody tr th {\n",
       "        vertical-align: top;\n",
       "    }\n",
       "\n",
       "    .dataframe thead th {\n",
       "        text-align: right;\n",
       "    }\n",
       "</style>\n",
       "<table border=\"1\" class=\"dataframe\">\n",
       "  <thead>\n",
       "    <tr style=\"text-align: right;\">\n",
       "      <th></th>\n",
       "      <th>State</th>\n",
       "      <th>Year</th>\n",
       "      <th>Quater</th>\n",
       "      <th>Transaction_type</th>\n",
       "      <th>Transacion_count</th>\n",
       "      <th>Transacion_amount</th>\n",
       "    </tr>\n",
       "  </thead>\n",
       "  <tbody>\n",
       "    <tr>\n",
       "      <th>0</th>\n",
       "      <td>Andaman &amp; Nicobar</td>\n",
       "      <td>2018</td>\n",
       "      <td>1</td>\n",
       "      <td>Recharge &amp; bill payments</td>\n",
       "      <td>4200</td>\n",
       "      <td>1845307</td>\n",
       "    </tr>\n",
       "    <tr>\n",
       "      <th>1</th>\n",
       "      <td>Andaman &amp; Nicobar</td>\n",
       "      <td>2018</td>\n",
       "      <td>1</td>\n",
       "      <td>Others</td>\n",
       "      <td>256</td>\n",
       "      <td>184690</td>\n",
       "    </tr>\n",
       "    <tr>\n",
       "      <th>2</th>\n",
       "      <td>Andaman &amp; Nicobar</td>\n",
       "      <td>2018</td>\n",
       "      <td>1</td>\n",
       "      <td>Financial Services</td>\n",
       "      <td>33</td>\n",
       "      <td>10601</td>\n",
       "    </tr>\n",
       "    <tr>\n",
       "      <th>3</th>\n",
       "      <td>Andaman &amp; Nicobar</td>\n",
       "      <td>2018</td>\n",
       "      <td>1</td>\n",
       "      <td>Merchant payments</td>\n",
       "      <td>298</td>\n",
       "      <td>452507</td>\n",
       "    </tr>\n",
       "    <tr>\n",
       "      <th>4</th>\n",
       "      <td>Andaman &amp; Nicobar</td>\n",
       "      <td>2018</td>\n",
       "      <td>1</td>\n",
       "      <td>Peer-to-peer payments</td>\n",
       "      <td>1871</td>\n",
       "      <td>12138655</td>\n",
       "    </tr>\n",
       "    <tr>\n",
       "      <th>...</th>\n",
       "      <td>...</td>\n",
       "      <td>...</td>\n",
       "      <td>...</td>\n",
       "      <td>...</td>\n",
       "      <td>...</td>\n",
       "      <td>...</td>\n",
       "    </tr>\n",
       "    <tr>\n",
       "      <th>4309</th>\n",
       "      <td>West Bengal</td>\n",
       "      <td>2023</td>\n",
       "      <td>4</td>\n",
       "      <td>Recharge &amp; bill payments</td>\n",
       "      <td>64920775</td>\n",
       "      <td>45319429210</td>\n",
       "    </tr>\n",
       "    <tr>\n",
       "      <th>4310</th>\n",
       "      <td>West Bengal</td>\n",
       "      <td>2023</td>\n",
       "      <td>4</td>\n",
       "      <td>Peer-to-peer payments</td>\n",
       "      <td>317959249</td>\n",
       "      <td>964138540494</td>\n",
       "    </tr>\n",
       "    <tr>\n",
       "      <th>4311</th>\n",
       "      <td>West Bengal</td>\n",
       "      <td>2023</td>\n",
       "      <td>4</td>\n",
       "      <td>Merchant payments</td>\n",
       "      <td>354067997</td>\n",
       "      <td>239073842398</td>\n",
       "    </tr>\n",
       "    <tr>\n",
       "      <th>4312</th>\n",
       "      <td>West Bengal</td>\n",
       "      <td>2023</td>\n",
       "      <td>4</td>\n",
       "      <td>Financial Services</td>\n",
       "      <td>480740</td>\n",
       "      <td>459007296</td>\n",
       "    </tr>\n",
       "    <tr>\n",
       "      <th>4313</th>\n",
       "      <td>West Bengal</td>\n",
       "      <td>2023</td>\n",
       "      <td>4</td>\n",
       "      <td>Others</td>\n",
       "      <td>524477</td>\n",
       "      <td>404156680</td>\n",
       "    </tr>\n",
       "  </tbody>\n",
       "</table>\n",
       "<p>4314 rows × 6 columns</p>\n",
       "</div>"
      ],
      "text/plain": [
       "                  State  Year  Quater          Transaction_type  \\\n",
       "0     Andaman & Nicobar  2018       1  Recharge & bill payments   \n",
       "1     Andaman & Nicobar  2018       1                    Others   \n",
       "2     Andaman & Nicobar  2018       1        Financial Services   \n",
       "3     Andaman & Nicobar  2018       1         Merchant payments   \n",
       "4     Andaman & Nicobar  2018       1     Peer-to-peer payments   \n",
       "...                 ...   ...     ...                       ...   \n",
       "4309        West Bengal  2023       4  Recharge & bill payments   \n",
       "4310        West Bengal  2023       4     Peer-to-peer payments   \n",
       "4311        West Bengal  2023       4         Merchant payments   \n",
       "4312        West Bengal  2023       4        Financial Services   \n",
       "4313        West Bengal  2023       4                    Others   \n",
       "\n",
       "      Transacion_count  Transacion_amount  \n",
       "0                 4200            1845307  \n",
       "1                  256             184690  \n",
       "2                   33              10601  \n",
       "3                  298             452507  \n",
       "4                 1871           12138655  \n",
       "...                ...                ...  \n",
       "4309          64920775        45319429210  \n",
       "4310         317959249       964138540494  \n",
       "4311         354067997       239073842398  \n",
       "4312            480740          459007296  \n",
       "4313            524477          404156680  \n",
       "\n",
       "[4314 rows x 6 columns]"
      ]
     },
     "execution_count": 51,
     "metadata": {},
     "output_type": "execute_result"
    }
   ],
   "source": [
    "Agg_Trans"
   ]
  },
  {
   "cell_type": "code",
   "execution_count": null,
   "metadata": {},
   "outputs": [],
   "source": [
    "def trans(df,Year):\n",
    "    data=df[df.Year==Year]\n",
    "    data.reset_index(drop=True, inplace=True)\n",
    "    datasum=data.groupby(\"State\")[[\"Transacion_count\",\"Transacion_amount\"]].sum()\n",
    "    datasum.reset_index(inplace=True)\n",
    "    fig=px.bar(datasum,x=\"State\",y=\"Transacion_amount\",title=f\"{Year} Transacion_amount\",pattern_shape_sequence=[\"+\"],height=650,width=700,color_discrete_sequence=['#782AB6'])\n",
    "    fig.show()\n",
    "    fig=px.bar(datasum,x=\"State\",y=\"Transacion_count\",title=f\"{Year} Transacion_count\",pattern_shape_sequence=[\"+\"],height=650,width=700,color_discrete_sequence=['#85660D'])\n",
    "    fig.show()\n",
    "    \n",
    "    df = pd.read_csv(\"https://gist.githubusercontent.com/jbrobst/56c13bbbf9d97d187fea01ca62ea5112/raw/e388c4cae20aa53cb5090210a42ebb9b765c0a36/active_cases_2020-07-17_0800.csv\")\n",
    "\n",
    "    fig = px.choropleth(\n",
    "    datasum,\n",
    "    geojson=\"https://gist.githubusercontent.com/jbrobst/56c13bbbf9d97d187fea01ca62ea5112/raw/e388c4cae20aa53cb5090210a42ebb9b765c0a36/india_states.geojson\",\n",
    "    featureidkey='properties.ST_NM',\n",
    "    locations='State',\n",
    "    color='Transacion_amount',\n",
    "    color_continuous_scale='Rainbow',\n",
    "    range_color=(datasum[\"Transacion_amount\"].max(),datasum[\"Transacion_amount\"].min()),\n",
    "    hover_name=\"State\",\n",
    "    title=f\"{Year}\",\n",
    "    width=600,height=600\n",
    "    \n",
    "    )\n",
    "\n",
    "    fig.update_geos(fitbounds=\"locations\", visible=False)\n",
    "\n",
    "    fig.show()\n",
    "    \n",
    "    fig2 = px.choropleth(\n",
    "    datasum,\n",
    "    geojson=\"https://gist.githubusercontent.com/jbrobst/56c13bbbf9d97d187fea01ca62ea5112/raw/e388c4cae20aa53cb5090210a42ebb9b765c0a36/india_states.geojson\",\n",
    "    featureidkey='properties.ST_NM',\n",
    "    locations='State',\n",
    "    color='Transacion_count',\n",
    "    color_continuous_scale='Rainbow',\n",
    "    range_color=(datasum[\"Transacion_count\"].max(),datasum[\"Transacion_count\"].min()),\n",
    "    hover_name=\"State\",\n",
    "    title=f\"{Year}\",\n",
    "    width=600,height=600\n",
    "    \n",
    "    )\n",
    "\n",
    "\n",
    "    fig2.update_geos(fitbounds=\"locations\", visible=False)\n",
    "\n",
    "    fig2.show()\n",
    "    \n",
    "    return datasum\n",
    "    \n",
    "a=trans(Agg_Trans,2022)"
   ]
  },
  {
   "cell_type": "code",
   "execution_count": 53,
   "metadata": {},
   "outputs": [],
   "source": [
    "import requests\n",
    "import json\n",
    "import os\n",
    "import pandas as pd\n",
    "import numpy as np\n",
    "import matplotlib.pyplot as plt\n",
    "import seaborn as sns\n",
    "import plotly.express as px\n",
    "import plotly.graph_objects as go\n",
    "import psycopg2"
   ]
  },
  {
   "cell_type": "code",
   "execution_count": 61,
   "metadata": {},
   "outputs": [
    {
     "name": "stdout",
     "output_type": "stream",
     "text": [
      "Index(['State', 'Year', 'Quater', 'Transaction_type', 'Transacion_count',\n",
      "       'Transacion_amount'],\n",
      "      dtype='object')\n"
     ]
    }
   ],
   "source": [
    "print(df.columns)"
   ]
  },
  {
   "cell_type": "code",
   "execution_count": null,
   "metadata": {},
   "outputs": [],
   "source": []
  },
  {
   "cell_type": "code",
   "execution_count": null,
   "metadata": {},
   "outputs": [],
   "source": [
    "url= \"https://gist.githubusercontent.com/jbrobst/56c13bbbf9d97d187fea01ca62ea5112/raw/e388c4cae20aa53cb5090210a42ebb9b765c0a36/india_states.geojson\"\n",
    "response= requests.get(url)\n",
    "data1= json.loads(response.content)\n",
    "states_name_tra= [feature[\"properties\"][\"ST_NM\"] for feature in data1[\"features\"]]\n",
    "states_name_tra.sort()\n",
    "\n",
    "# fig_india_1= px.choropleth(df, geojson= data1, locations= \"States\", featureidkey= \"properties.ST_NM\",\n",
    "                            # color= \"Transacion_amount\", color_continuous_scale= \"Sunsetdark\",\n",
    "                            # range_color= (df[\"Transacion_amount\"].min(),df[\"Transacion_amount\"].max()),\n",
    "                            # hover_name= \"State\",title = f\"{df['Year'].min()}  Q {\"Quater\"} TRANSACTION AMOUNT\",\n",
    "                            # fitbounds= \"locations\",width =400, height= 600)\n",
    "\n",
    "\n",
    "fig_india_1 = px.choropleth(df, \n",
    "                            geojson=data1, \n",
    "                            locations='State',  # Correct column name representing the locations\n",
    "                            featureidkey='properties.ST_NM',\n",
    "                            color='Transacion_amount', \n",
    "                            color_continuous_scale='Rainbow',\n",
    "                            range_color=(df['Transacion_amount'].min(), df['Transacion_amount'].max()),\n",
    "                            hover_name='State',\n",
    "                            title=f\"{df['Year'].min()}  Q {'Quater'} TRANSACTION AMOUNT\",\n",
    "                            fitbounds='locations',\n",
    "                            width=900, \n",
    "                            height=900)\n",
    "\n",
    "fig_india_1.update_geos(visible =False)\n",
    "fig_india_1.show()\n",
    "        "
   ]
  },
  {
   "cell_type": "code",
   "execution_count": 43,
   "metadata": {},
   "outputs": [],
   "source": [
    "A=Agg_Trans['Year'].unique()\n",
    "B=sorted(A)\n",
    "Agg_Trans.reset_index(drop=True, inplace=True)"
   ]
  },
  {
   "cell_type": "code",
   "execution_count": 59,
   "metadata": {},
   "outputs": [],
   "source": [
    "df=Agg_Trans"
   ]
  },
  {
   "cell_type": "code",
   "execution_count": null,
   "metadata": {},
   "outputs": [],
   "source": [
    "def trans(df,Quater):\n",
    "    data=df[df.Quater==Quater]\n",
    "    data.reset_index(drop=True, inplace=True)\n",
    "    datasum=data.groupby(\"State\")[[\"Transacion_count\",\"Transacion_amount\"]].sum()\n",
    "    datasum.reset_index(inplace=True)\n",
    "    fig1=px.bar(datasum,x=\"State\",y=\"Transacion_amount\",title=f\"{Quater} Transacion_amount\",height=650,width=700,pattern_shape_sequence=[\"-\"],color_discrete_sequence=['#EB663B'])\n",
    "    fig1.show()\n",
    "    fig2=px.bar(datasum,x=\"State\",y=\"Transacion_count\",title=f\"{Quater} Transacion_count\",height=650,width=700,pattern_shape_sequence=[\"-\"],color_discrete_sequence=['#00A08B'])\n",
    "    fig2.show()\n",
    "    \n",
    "    df = pd.read_csv(\"https://gist.githubusercontent.com/jbrobst/56c13bbbf9d97d187fea01ca62ea5112/raw/e388c4cae20aa53cb5090210a42ebb9b765c0a36/active_cases_2020-07-17_0800.csv\")\n",
    "\n",
    "    fig1 = px.choropleth(\n",
    "    datasum,\n",
    "    geojson=\"https://gist.githubusercontent.com/jbrobst/56c13bbbf9d97d187fea01ca62ea5112/raw/e388c4cae20aa53cb5090210a42ebb9b765c0a36/india_states.geojson\",\n",
    "    featureidkey='properties.ST_NM',\n",
    "    locations='State',\n",
    "    color='Transacion_amount',\n",
    "    color_continuous_scale='Rainbow',\n",
    "    range_color=(datasum[\"Transacion_amount\"].max(),datasum[\"Transacion_amount\"].min()),\n",
    "    hover_name=\"State\",\n",
    "    title=f\"{Quater}\",\n",
    "    width=600,height=600\n",
    "    \n",
    "    )\n",
    "    fig1.update_geos(fitbounds=\"locations\", visible=False)\n",
    "\n",
    "    fig1.show()\n",
    "    \n",
    "    fig2 = px.choropleth(\n",
    "    datasum,\n",
    "    geojson=\"https://gist.githubusercontent.com/jbrobst/56c13bbbf9d97d187fea01ca62ea5112/raw/e388c4cae20aa53cb5090210a42ebb9b765c0a36/india_states.geojson\",\n",
    "    featureidkey='properties.ST_NM',\n",
    "    locations='State',\n",
    "    color='Transacion_count',\n",
    "    color_continuous_scale='Rainbow',\n",
    "    range_color=(datasum[\"Transacion_count\"].max(),datasum[\"Transacion_count\"].min()),\n",
    "    hover_name=\"State\",\n",
    "    title=f\"{Quater}\",\n",
    "    width=600,height=600\n",
    "    \n",
    "    )\n",
    "\n",
    "\n",
    "    fig2.update_geos(fitbounds=\"locations\", visible=False)\n",
    "\n",
    "    fig2.show()\n",
    "    \n",
    "   \n",
    "    return data\n",
    "trans(Agg_Trans,3)"
   ]
  },
  {
   "cell_type": "code",
   "execution_count": null,
   "metadata": {},
   "outputs": [],
   "source": [
    "Agg_Trans"
   ]
  },
  {
   "cell_type": "code",
   "execution_count": null,
   "metadata": {},
   "outputs": [],
   "source": []
  },
  {
   "cell_type": "code",
   "execution_count": null,
   "metadata": {},
   "outputs": [],
   "source": [
    "def state(df,State):\n",
    "    data=df[df.State==State]\n",
    "    data.reset_index(drop=True, inplace=True)\n",
    "    datasum=data.groupby(\"Transaction_type\")[[\"Transacion_count\",\"Transacion_amount\"]].sum()\n",
    "    datasum.reset_index(inplace=True)\n",
    "    \n",
    "    fig=px.pie(datasum,names=\"Transaction_type\",values=\"Transacion_amount\",title=\"Transacion_amount\",width=600,hole=0.5)\n",
    "    fig.show()\n",
    "    fig=px.pie(datasum,names=\"Transaction_type\",values=\"Transacion_count\",title= \"Transacion_count\",color_discrete_sequence=px.colors.sequential.Bluered_r,width=600,hole=0.5)\n",
    "    fig.show()\n",
    "    return datasum\n",
    "\n",
    "state(a,'Tamil Nadu')"
   ]
  },
  {
   "cell_type": "code",
   "execution_count": null,
   "metadata": {},
   "outputs": [],
   "source": [
    "state(\"Tamil Nadu\")"
   ]
  },
  {
   "cell_type": "code",
   "execution_count": null,
   "metadata": {},
   "outputs": [],
   "source": []
  },
  {
   "cell_type": "code",
   "execution_count": null,
   "metadata": {},
   "outputs": [],
   "source": []
  },
  {
   "cell_type": "code",
   "execution_count": null,
   "metadata": {},
   "outputs": [],
   "source": []
  },
  {
   "cell_type": "code",
   "execution_count": null,
   "metadata": {},
   "outputs": [],
   "source": [
    "pip install nbformat"
   ]
  },
  {
   "cell_type": "code",
   "execution_count": null,
   "metadata": {},
   "outputs": [],
   "source": [
    "import pandas as pd\n",
    "import plotly.express as px\n",
    "import requests\n",
    "import json\n",
    "\n",
    "df = pd.read_csv(\"https://gist.githubusercontent.com/jbrobst/56c13bbbf9d97d187fea01ca62ea5112/raw/e388c4cae20aa53cb5090210a42ebb9b765c0a36/active_cases_2020-07-17_0800.csv\")\n",
    "\n",
    "fig = px.choropleth(\n",
    "    df,\n",
    "    geojson=\"https://gist.githubusercontent.com/jbrobst/56c13bbbf9d97d187fea01ca62ea5112/raw/e388c4cae20aa53cb5090210a42ebb9b765c0a36/india_states.geojson\",\n",
    "    featureidkey='properties.ST_NM',\n",
    "    locations='state',\n",
    "    color='active cases',\n",
    "    color_continuous_scale='Reds'\n",
    ")\n",
    "\n",
    "fig.update_geos(fitbounds=\"locations\", visible=False)\n",
    "\n",
    "fig.show()"
   ]
  },
  {
   "cell_type": "markdown",
   "metadata": {},
   "source": [
    "##user\n"
   ]
  },
  {
   "cell_type": "code",
   "execution_count": 36,
   "metadata": {},
   "outputs": [],
   "source": [
    "db=psycopg2.connect(host='localhost',user='postgres',password='11001100',database='phonepay',port=5432)\n",
    "access=db.cursor()\n",
    "access.execute(\"Select * from Top_User\")\n",
    "db.commit()\n",
    "tab=access.fetchall()\n",
    "Top_User=pd.DataFrame(tab,columns=(\"State\",\"Year\",\"Quater\",\"Pincode\",\"RegisteredUsers\"))\n",
    "\n"
   ]
  },
  {
   "cell_type": "code",
   "execution_count": 139,
   "metadata": {},
   "outputs": [
    {
     "data": {
      "text/html": [
       "<div>\n",
       "<style scoped>\n",
       "    .dataframe tbody tr th:only-of-type {\n",
       "        vertical-align: middle;\n",
       "    }\n",
       "\n",
       "    .dataframe tbody tr th {\n",
       "        vertical-align: top;\n",
       "    }\n",
       "\n",
       "    .dataframe thead th {\n",
       "        text-align: right;\n",
       "    }\n",
       "</style>\n",
       "<table border=\"1\" class=\"dataframe\">\n",
       "  <thead>\n",
       "    <tr style=\"text-align: right;\">\n",
       "      <th></th>\n",
       "      <th>State</th>\n",
       "      <th>Year</th>\n",
       "      <th>Quater</th>\n",
       "      <th>Pincode</th>\n",
       "      <th>RegisteredUsers</th>\n",
       "    </tr>\n",
       "  </thead>\n",
       "  <tbody>\n",
       "    <tr>\n",
       "      <th>0</th>\n",
       "      <td>Andaman &amp; Nicobar</td>\n",
       "      <td>2018</td>\n",
       "      <td>1</td>\n",
       "      <td>744103</td>\n",
       "      <td>1608</td>\n",
       "    </tr>\n",
       "    <tr>\n",
       "      <th>1</th>\n",
       "      <td>Andaman &amp; Nicobar</td>\n",
       "      <td>2018</td>\n",
       "      <td>1</td>\n",
       "      <td>744101</td>\n",
       "      <td>1108</td>\n",
       "    </tr>\n",
       "    <tr>\n",
       "      <th>2</th>\n",
       "      <td>Andaman &amp; Nicobar</td>\n",
       "      <td>2018</td>\n",
       "      <td>1</td>\n",
       "      <td>744105</td>\n",
       "      <td>1075</td>\n",
       "    </tr>\n",
       "    <tr>\n",
       "      <th>3</th>\n",
       "      <td>Andaman &amp; Nicobar</td>\n",
       "      <td>2018</td>\n",
       "      <td>1</td>\n",
       "      <td>744102</td>\n",
       "      <td>1006</td>\n",
       "    </tr>\n",
       "    <tr>\n",
       "      <th>4</th>\n",
       "      <td>Andaman &amp; Nicobar</td>\n",
       "      <td>2018</td>\n",
       "      <td>1</td>\n",
       "      <td>744104</td>\n",
       "      <td>272</td>\n",
       "    </tr>\n",
       "    <tr>\n",
       "      <th>...</th>\n",
       "      <td>...</td>\n",
       "      <td>...</td>\n",
       "      <td>...</td>\n",
       "      <td>...</td>\n",
       "      <td>...</td>\n",
       "    </tr>\n",
       "    <tr>\n",
       "      <th>8563</th>\n",
       "      <td>West Bengal</td>\n",
       "      <td>2023</td>\n",
       "      <td>4</td>\n",
       "      <td>700039</td>\n",
       "      <td>127254</td>\n",
       "    </tr>\n",
       "    <tr>\n",
       "      <th>8564</th>\n",
       "      <td>West Bengal</td>\n",
       "      <td>2023</td>\n",
       "      <td>4</td>\n",
       "      <td>700015</td>\n",
       "      <td>126663</td>\n",
       "    </tr>\n",
       "    <tr>\n",
       "      <th>8565</th>\n",
       "      <td>West Bengal</td>\n",
       "      <td>2023</td>\n",
       "      <td>4</td>\n",
       "      <td>742304</td>\n",
       "      <td>123320</td>\n",
       "    </tr>\n",
       "    <tr>\n",
       "      <th>8566</th>\n",
       "      <td>West Bengal</td>\n",
       "      <td>2023</td>\n",
       "      <td>4</td>\n",
       "      <td>700150</td>\n",
       "      <td>119283</td>\n",
       "    </tr>\n",
       "    <tr>\n",
       "      <th>8567</th>\n",
       "      <td>West Bengal</td>\n",
       "      <td>2023</td>\n",
       "      <td>4</td>\n",
       "      <td>700091</td>\n",
       "      <td>118578</td>\n",
       "    </tr>\n",
       "  </tbody>\n",
       "</table>\n",
       "<p>8568 rows × 5 columns</p>\n",
       "</div>"
      ],
      "text/plain": [
       "                  State  Year  Quater  Pincode  RegisteredUsers\n",
       "0     Andaman & Nicobar  2018       1   744103             1608\n",
       "1     Andaman & Nicobar  2018       1   744101             1108\n",
       "2     Andaman & Nicobar  2018       1   744105             1075\n",
       "3     Andaman & Nicobar  2018       1   744102             1006\n",
       "4     Andaman & Nicobar  2018       1   744104              272\n",
       "...                 ...   ...     ...      ...              ...\n",
       "8563        West Bengal  2023       4   700039           127254\n",
       "8564        West Bengal  2023       4   700015           126663\n",
       "8565        West Bengal  2023       4   742304           123320\n",
       "8566        West Bengal  2023       4   700150           119283\n",
       "8567        West Bengal  2023       4   700091           118578\n",
       "\n",
       "[8568 rows x 5 columns]"
      ]
     },
     "execution_count": 139,
     "metadata": {},
     "output_type": "execute_result"
    }
   ],
   "source": [
    "Top_User"
   ]
  },
  {
   "cell_type": "code",
   "execution_count": 144,
   "metadata": {},
   "outputs": [
    {
     "data": {
      "text/plain": [
       "<pandas.core.groupby.generic.DataFrameGroupBy object at 0x000002396EDFE240>"
      ]
     },
     "execution_count": 144,
     "metadata": {},
     "output_type": "execute_result"
    }
   ],
   "source": [
    "\n",
    "\n",
    "datasum=Top_User.groupby([\"State\",\"Pincode\"])[[\"RegisteredUsers\"]]\n",
    "\n",
    "datasum\n",
    "\n",
    "# fig=px.bar(datasum,x=\"State\",y=\"RegisteredUsers\",title=\" Transacion_count\",pattern_shape_sequence=[\"+\"],height=650,width=700,color_discrete_sequence=['#85660D'])\n",
    "# fig.show()\n",
    "# fig = px.sunburst(datasum, path=['State',\"Pincode\"],hover_name=\"State\", values='RegisteredUsers')\n",
    "# # fig.update_traces(hovertemplate='<b>District:</b> %{label}<br><b>State:</b> %{parent}<br><b>Registered Users:</b> %{value}')\n",
    "# fig.show()"
   ]
  },
  {
   "cell_type": "code",
   "execution_count": 38,
   "metadata": {},
   "outputs": [],
   "source": [
    "db=psycopg2.connect(host='localhost',user='postgres',password='11001100',database='phonepay',port=5432)\n",
    "access=db.cursor()\n",
    "access.execute(\"Select * from Agg_User\")\n",
    "db.commit()\n",
    "tab4=access.fetchall()\n",
    "Agg_User=pd.DataFrame(tab4,columns=(\"State\",\"Year\",\"Quater\",\"Brands\",\"Transacion_count\",\"Percentage\"))\n",
    "\n"
   ]
  },
  {
   "cell_type": "code",
   "execution_count": 133,
   "metadata": {},
   "outputs": [],
   "source": [
    "db=psycopg2.connect(host='localhost',user='postgres',password='11001100',database='phonepay',port=5432)\n",
    "access=db.cursor()\n",
    "access.execute(\"Select * from Map_User\")\n",
    "db.commit()\n",
    "tab2=access.fetchall()\n",
    "Map_User=pd.DataFrame(tab2,columns=(\"State\",\"Year\",\"Quater\",\"Districts\",\"RegisteredUsers\",\"Appopens\"))\n",
    "\n"
   ]
  },
  {
   "cell_type": "code",
   "execution_count": 166,
   "metadata": {},
   "outputs": [
    {
     "data": {
      "text/html": [
       "<div>\n",
       "<style scoped>\n",
       "    .dataframe tbody tr th:only-of-type {\n",
       "        vertical-align: middle;\n",
       "    }\n",
       "\n",
       "    .dataframe tbody tr th {\n",
       "        vertical-align: top;\n",
       "    }\n",
       "\n",
       "    .dataframe thead th {\n",
       "        text-align: right;\n",
       "    }\n",
       "</style>\n",
       "<table border=\"1\" class=\"dataframe\">\n",
       "  <thead>\n",
       "    <tr style=\"text-align: right;\">\n",
       "      <th></th>\n",
       "      <th>State</th>\n",
       "      <th>Year</th>\n",
       "      <th>Quater</th>\n",
       "      <th>Districts</th>\n",
       "      <th>RegisteredUsers</th>\n",
       "      <th>Appopens</th>\n",
       "    </tr>\n",
       "  </thead>\n",
       "  <tbody>\n",
       "    <tr>\n",
       "      <th>0</th>\n",
       "      <td>Andaman &amp; Nicobar</td>\n",
       "      <td>2018</td>\n",
       "      <td>1</td>\n",
       "      <td>North And Middle Andaman</td>\n",
       "      <td>632</td>\n",
       "      <td>0</td>\n",
       "    </tr>\n",
       "    <tr>\n",
       "      <th>1</th>\n",
       "      <td>Andaman &amp; Nicobar</td>\n",
       "      <td>2018</td>\n",
       "      <td>1</td>\n",
       "      <td>Nicobars</td>\n",
       "      <td>262</td>\n",
       "      <td>0</td>\n",
       "    </tr>\n",
       "    <tr>\n",
       "      <th>2</th>\n",
       "      <td>Andaman &amp; Nicobar</td>\n",
       "      <td>2018</td>\n",
       "      <td>1</td>\n",
       "      <td>South Andaman</td>\n",
       "      <td>5846</td>\n",
       "      <td>0</td>\n",
       "    </tr>\n",
       "    <tr>\n",
       "      <th>3</th>\n",
       "      <td>Andhra Pradesh</td>\n",
       "      <td>2018</td>\n",
       "      <td>1</td>\n",
       "      <td>Chittoor</td>\n",
       "      <td>309541</td>\n",
       "      <td>0</td>\n",
       "    </tr>\n",
       "    <tr>\n",
       "      <th>4</th>\n",
       "      <td>Andhra Pradesh</td>\n",
       "      <td>2018</td>\n",
       "      <td>1</td>\n",
       "      <td>West Godavari</td>\n",
       "      <td>213335</td>\n",
       "      <td>0</td>\n",
       "    </tr>\n",
       "    <tr>\n",
       "      <th>...</th>\n",
       "      <td>...</td>\n",
       "      <td>...</td>\n",
       "      <td>...</td>\n",
       "      <td>...</td>\n",
       "      <td>...</td>\n",
       "      <td>...</td>\n",
       "    </tr>\n",
       "    <tr>\n",
       "      <th>17563</th>\n",
       "      <td>West Bengal</td>\n",
       "      <td>2023</td>\n",
       "      <td>4</td>\n",
       "      <td>Purba Bardhaman</td>\n",
       "      <td>1321422</td>\n",
       "      <td>60531604</td>\n",
       "    </tr>\n",
       "    <tr>\n",
       "      <th>17564</th>\n",
       "      <td>West Bengal</td>\n",
       "      <td>2023</td>\n",
       "      <td>4</td>\n",
       "      <td>Uttar Dinajpur</td>\n",
       "      <td>686351</td>\n",
       "      <td>59519903</td>\n",
       "    </tr>\n",
       "    <tr>\n",
       "      <th>17565</th>\n",
       "      <td>West Bengal</td>\n",
       "      <td>2023</td>\n",
       "      <td>4</td>\n",
       "      <td>Kalimpong</td>\n",
       "      <td>63057</td>\n",
       "      <td>4888327</td>\n",
       "    </tr>\n",
       "    <tr>\n",
       "      <th>17566</th>\n",
       "      <td>West Bengal</td>\n",
       "      <td>2023</td>\n",
       "      <td>4</td>\n",
       "      <td>Maldah</td>\n",
       "      <td>1134600</td>\n",
       "      <td>88292475</td>\n",
       "    </tr>\n",
       "    <tr>\n",
       "      <th>17567</th>\n",
       "      <td>West Bengal</td>\n",
       "      <td>2023</td>\n",
       "      <td>4</td>\n",
       "      <td>Darjiling</td>\n",
       "      <td>660231</td>\n",
       "      <td>39079247</td>\n",
       "    </tr>\n",
       "  </tbody>\n",
       "</table>\n",
       "<p>17568 rows × 6 columns</p>\n",
       "</div>"
      ],
      "text/plain": [
       "                   State  Year  Quater                  Districts  \\\n",
       "0      Andaman & Nicobar  2018       1  North And Middle Andaman    \n",
       "1      Andaman & Nicobar  2018       1                  Nicobars    \n",
       "2      Andaman & Nicobar  2018       1             South Andaman    \n",
       "3         Andhra Pradesh  2018       1                  Chittoor    \n",
       "4         Andhra Pradesh  2018       1             West Godavari    \n",
       "...                  ...   ...     ...                        ...   \n",
       "17563        West Bengal  2023       4           Purba Bardhaman    \n",
       "17564        West Bengal  2023       4            Uttar Dinajpur    \n",
       "17565        West Bengal  2023       4                 Kalimpong    \n",
       "17566        West Bengal  2023       4                    Maldah    \n",
       "17567        West Bengal  2023       4                 Darjiling    \n",
       "\n",
       "       RegisteredUsers  Appopens  \n",
       "0                  632         0  \n",
       "1                  262         0  \n",
       "2                 5846         0  \n",
       "3               309541         0  \n",
       "4               213335         0  \n",
       "...                ...       ...  \n",
       "17563          1321422  60531604  \n",
       "17564           686351  59519903  \n",
       "17565            63057   4888327  \n",
       "17566          1134600  88292475  \n",
       "17567           660231  39079247  \n",
       "\n",
       "[17568 rows x 6 columns]"
      ]
     },
     "execution_count": 166,
     "metadata": {},
     "output_type": "execute_result"
    }
   ],
   "source": [
    "Map_User"
   ]
  },
  {
   "cell_type": "code",
   "execution_count": 150,
   "metadata": {},
   "outputs": [],
   "source": [
    " def user_analysis(df,Year,Quater):\n",
    "    data=df[(df.Year==Year)&(df.Quater==Quater)]\n",
    "\n",
    "    datasum=data.groupby([\"State\",\"Districts\"])[[\"RegisteredUsers\",\"Appopens\"]].sum()\n",
    "\n",
    "    datasum.reset_index(inplace=True)\n",
    "    \n",
    "    fig = px.sunburst(datasum, path=['State',\"Districts\"],hover_name=\"State\", values='RegisteredUsers',title=f\"{Year} Registered Users\")\n",
    "    # fig.update_traces(hovertemplate='<b>District:</b> %{label}<br><b>State:</b> %{parent}<br><b>Registered Users:</b> %{value}')\n",
    "    fig.show()\n",
    "    fig = px.sunburst(datasum, path=['State',\"Districts\"],hover_name=\"State\", values='Appopens',title=f\"{Year} App opens\")\n",
    "    # fig.update_traces(hovertemplate='<b>District:</b> %{label}<br><b>State:</b> %{parent}<br><b>Registered Users:</b> %{value}')\n",
    "    fig.show()\n",
    "    fig = px.pie(datasum, values='RegisteredUsers', names='State',hover_data='State',title=f\"{Year} Registered Users\")\n",
    "    fig.update_traces(textposition='inside')\n",
    "    fig.update_layout(uniformtext_minsize=16, uniformtext_mode='hide')\n",
    "    fig.show()\n",
    "    fig = px.pie(datasum, values='Appopens', names='State',hover_data='State',title=f\"{Year} App opens\")\n",
    "    fig.update_traces(textposition='inside')\n",
    "    fig.update_layout(uniformtext_minsize=16, uniformtext_mode='hide')\n",
    "    fig.show()\n",
    "    "
   ]
  },
  {
   "cell_type": "code",
   "execution_count": null,
   "metadata": {},
   "outputs": [],
   "source": [
    "user_analysis(Map_User,2022,4)"
   ]
  },
  {
   "cell_type": "code",
   "execution_count": null,
   "metadata": {},
   "outputs": [],
   "source": [
    "def user_count(df,Year):\n",
    "\n",
    "    data=df[df.Year==Year]\n",
    "    data.reset_index(drop=True, inplace=True)\n",
    "    df=data.groupby([\"State\",\"Brands\"])[[\"Transacion_count\",\"Percentage\"]].sum()\n",
    "\n",
    "    df.reset_index(inplace=True)\n",
    "\n",
    "\n",
    "    fig = px.sunburst(df, path=['Brands'], values='Percentage')\n",
    "    fig.show()\n",
    "\n",
    "\n",
    "    fig = px.pie(df, values='Transacion_count', names='State',hover_data='State')\n",
    "    fig.update_traces(textposition='inside')\n",
    "    fig.update_layout(uniformtext_minsize=16, uniformtext_mode='hide')\n",
    "    fig.show()\n",
    "\n",
    "\n",
    "# fig=px.pie(datasum,names=\"Transaction_type\",values=\"Transacion_count\",title= \"Transacion_count\",color_discrete_sequence=px.colors.sequential.Bluered_r,width=600,hole=0.5)\n",
    "# fig.show()\n",
    "# return datasum"
   ]
  },
  {
   "cell_type": "code",
   "execution_count": 160,
   "metadata": {},
   "outputs": [
    {
     "data": {
      "application/vnd.plotly.v1+json": {
       "config": {
        "plotlyServerURL": "https://plot.ly"
       },
       "data": [
        {
         "marker": {
          "color": "rgba(50, 171, 96, 0.6)",
          "line": {
           "color": "rgba(50, 171, 96, 1.0)",
           "width": 1
          }
         },
         "name": "Household savings, percentage of household disposable income",
         "orientation": "h",
         "type": "bar",
         "x": [
          1.3586,
          2.2623,
          4.9822,
          6.5097,
          7.4812,
          7.5133,
          15.2148,
          17.5205
         ],
         "xaxis": "x",
         "y": [
          "Japan",
          "United Kingdom",
          "Canada",
          "Netherlands",
          "United States",
          "Belgium",
          "Sweden",
          "Switzerland"
         ],
         "yaxis": "y"
        },
        {
         "line": {
          "color": "rgb(128, 0, 128)"
         },
         "mode": "lines+markers",
         "name": "Household net worth, Million USD/capita",
         "type": "scatter",
         "x": [
          93453.92,
          81666.57,
          69889.62,
          78381.53,
          141395.3,
          92969.02,
          66090.18,
          122379.3
         ],
         "xaxis": "x2",
         "y": [
          "Japan",
          "United Kingdom",
          "Canada",
          "Netherlands",
          "United States",
          "Belgium",
          "Sweden",
          "Switzerland"
         ],
         "yaxis": "y2"
        }
       ],
       "layout": {
        "annotations": [
         {
          "font": {
           "color": "rgb(128, 0, 128)",
           "family": "Arial",
           "size": 12
          },
          "showarrow": false,
          "text": "93,454.0M",
          "x": 73454,
          "xref": "x2",
          "y": "Japan",
          "yref": "y2"
         },
         {
          "font": {
           "color": "rgb(50, 171, 96)",
           "family": "Arial",
           "size": 12
          },
          "showarrow": false,
          "text": "1.36%",
          "x": 4.36,
          "xref": "x",
          "y": "Japan",
          "yref": "y"
         },
         {
          "font": {
           "color": "rgb(128, 0, 128)",
           "family": "Arial",
           "size": 12
          },
          "showarrow": false,
          "text": "81,667.0M",
          "x": 61667,
          "xref": "x2",
          "y": "United Kingdom",
          "yref": "y2"
         },
         {
          "font": {
           "color": "rgb(50, 171, 96)",
           "family": "Arial",
           "size": 12
          },
          "showarrow": false,
          "text": "2.26%",
          "x": 5.26,
          "xref": "x",
          "y": "United Kingdom",
          "yref": "y"
         },
         {
          "font": {
           "color": "rgb(128, 0, 128)",
           "family": "Arial",
           "size": 12
          },
          "showarrow": false,
          "text": "69,890.0M",
          "x": 49890,
          "xref": "x2",
          "y": "Canada",
          "yref": "y2"
         },
         {
          "font": {
           "color": "rgb(50, 171, 96)",
           "family": "Arial",
           "size": 12
          },
          "showarrow": false,
          "text": "4.98%",
          "x": 7.98,
          "xref": "x",
          "y": "Canada",
          "yref": "y"
         },
         {
          "font": {
           "color": "rgb(128, 0, 128)",
           "family": "Arial",
           "size": 12
          },
          "showarrow": false,
          "text": "78,382.0M",
          "x": 58382,
          "xref": "x2",
          "y": "Netherlands",
          "yref": "y2"
         },
         {
          "font": {
           "color": "rgb(50, 171, 96)",
           "family": "Arial",
           "size": 12
          },
          "showarrow": false,
          "text": "6.51%",
          "x": 9.51,
          "xref": "x",
          "y": "Netherlands",
          "yref": "y"
         },
         {
          "font": {
           "color": "rgb(128, 0, 128)",
           "family": "Arial",
           "size": 12
          },
          "showarrow": false,
          "text": "141,395.0M",
          "x": 121395,
          "xref": "x2",
          "y": "United States",
          "yref": "y2"
         },
         {
          "font": {
           "color": "rgb(50, 171, 96)",
           "family": "Arial",
           "size": 12
          },
          "showarrow": false,
          "text": "7.48%",
          "x": 10.48,
          "xref": "x",
          "y": "United States",
          "yref": "y"
         },
         {
          "font": {
           "color": "rgb(128, 0, 128)",
           "family": "Arial",
           "size": 12
          },
          "showarrow": false,
          "text": "92,969.0M",
          "x": 72969,
          "xref": "x2",
          "y": "Belgium",
          "yref": "y2"
         },
         {
          "font": {
           "color": "rgb(50, 171, 96)",
           "family": "Arial",
           "size": 12
          },
          "showarrow": false,
          "text": "7.51%",
          "x": 10.51,
          "xref": "x",
          "y": "Belgium",
          "yref": "y"
         },
         {
          "font": {
           "color": "rgb(128, 0, 128)",
           "family": "Arial",
           "size": 12
          },
          "showarrow": false,
          "text": "66,090.0M",
          "x": 46090,
          "xref": "x2",
          "y": "Sweden",
          "yref": "y2"
         },
         {
          "font": {
           "color": "rgb(50, 171, 96)",
           "family": "Arial",
           "size": 12
          },
          "showarrow": false,
          "text": "15.21%",
          "x": 18.21,
          "xref": "x",
          "y": "Sweden",
          "yref": "y"
         },
         {
          "font": {
           "color": "rgb(128, 0, 128)",
           "family": "Arial",
           "size": 12
          },
          "showarrow": false,
          "text": "122,379.0M",
          "x": 102379,
          "xref": "x2",
          "y": "Switzerland",
          "yref": "y2"
         },
         {
          "font": {
           "color": "rgb(50, 171, 96)",
           "family": "Arial",
           "size": 12
          },
          "showarrow": false,
          "text": "17.52%",
          "x": 20.52,
          "xref": "x",
          "y": "Switzerland",
          "yref": "y"
         },
         {
          "font": {
           "color": "rgb(150,150,150)",
           "family": "Arial",
           "size": 10
          },
          "showarrow": false,
          "text": "OECD \"(2015), Household savings (indicator), Household net worth (indicator). doi: 10.1787/cfc6f499-en (Accessed on 05 June 2015)",
          "x": -0.2,
          "xref": "paper",
          "y": -0.109,
          "yref": "paper"
         }
        ],
        "legend": {
         "font": {
          "size": 10
         },
         "x": 0.029,
         "y": 1.038
        },
        "margin": {
         "b": 70,
         "l": 100,
         "r": 20,
         "t": 70
        },
        "paper_bgcolor": "rgb(248, 248, 255)",
        "plot_bgcolor": "rgb(248, 248, 255)",
        "template": {
         "data": {
          "bar": [
           {
            "error_x": {
             "color": "#2a3f5f"
            },
            "error_y": {
             "color": "#2a3f5f"
            },
            "marker": {
             "line": {
              "color": "#E5ECF6",
              "width": 0.5
             },
             "pattern": {
              "fillmode": "overlay",
              "size": 10,
              "solidity": 0.2
             }
            },
            "type": "bar"
           }
          ],
          "barpolar": [
           {
            "marker": {
             "line": {
              "color": "#E5ECF6",
              "width": 0.5
             },
             "pattern": {
              "fillmode": "overlay",
              "size": 10,
              "solidity": 0.2
             }
            },
            "type": "barpolar"
           }
          ],
          "carpet": [
           {
            "aaxis": {
             "endlinecolor": "#2a3f5f",
             "gridcolor": "white",
             "linecolor": "white",
             "minorgridcolor": "white",
             "startlinecolor": "#2a3f5f"
            },
            "baxis": {
             "endlinecolor": "#2a3f5f",
             "gridcolor": "white",
             "linecolor": "white",
             "minorgridcolor": "white",
             "startlinecolor": "#2a3f5f"
            },
            "type": "carpet"
           }
          ],
          "choropleth": [
           {
            "colorbar": {
             "outlinewidth": 0,
             "ticks": ""
            },
            "type": "choropleth"
           }
          ],
          "contour": [
           {
            "colorbar": {
             "outlinewidth": 0,
             "ticks": ""
            },
            "colorscale": [
             [
              0,
              "#0d0887"
             ],
             [
              0.1111111111111111,
              "#46039f"
             ],
             [
              0.2222222222222222,
              "#7201a8"
             ],
             [
              0.3333333333333333,
              "#9c179e"
             ],
             [
              0.4444444444444444,
              "#bd3786"
             ],
             [
              0.5555555555555556,
              "#d8576b"
             ],
             [
              0.6666666666666666,
              "#ed7953"
             ],
             [
              0.7777777777777778,
              "#fb9f3a"
             ],
             [
              0.8888888888888888,
              "#fdca26"
             ],
             [
              1,
              "#f0f921"
             ]
            ],
            "type": "contour"
           }
          ],
          "contourcarpet": [
           {
            "colorbar": {
             "outlinewidth": 0,
             "ticks": ""
            },
            "type": "contourcarpet"
           }
          ],
          "heatmap": [
           {
            "colorbar": {
             "outlinewidth": 0,
             "ticks": ""
            },
            "colorscale": [
             [
              0,
              "#0d0887"
             ],
             [
              0.1111111111111111,
              "#46039f"
             ],
             [
              0.2222222222222222,
              "#7201a8"
             ],
             [
              0.3333333333333333,
              "#9c179e"
             ],
             [
              0.4444444444444444,
              "#bd3786"
             ],
             [
              0.5555555555555556,
              "#d8576b"
             ],
             [
              0.6666666666666666,
              "#ed7953"
             ],
             [
              0.7777777777777778,
              "#fb9f3a"
             ],
             [
              0.8888888888888888,
              "#fdca26"
             ],
             [
              1,
              "#f0f921"
             ]
            ],
            "type": "heatmap"
           }
          ],
          "heatmapgl": [
           {
            "colorbar": {
             "outlinewidth": 0,
             "ticks": ""
            },
            "colorscale": [
             [
              0,
              "#0d0887"
             ],
             [
              0.1111111111111111,
              "#46039f"
             ],
             [
              0.2222222222222222,
              "#7201a8"
             ],
             [
              0.3333333333333333,
              "#9c179e"
             ],
             [
              0.4444444444444444,
              "#bd3786"
             ],
             [
              0.5555555555555556,
              "#d8576b"
             ],
             [
              0.6666666666666666,
              "#ed7953"
             ],
             [
              0.7777777777777778,
              "#fb9f3a"
             ],
             [
              0.8888888888888888,
              "#fdca26"
             ],
             [
              1,
              "#f0f921"
             ]
            ],
            "type": "heatmapgl"
           }
          ],
          "histogram": [
           {
            "marker": {
             "pattern": {
              "fillmode": "overlay",
              "size": 10,
              "solidity": 0.2
             }
            },
            "type": "histogram"
           }
          ],
          "histogram2d": [
           {
            "colorbar": {
             "outlinewidth": 0,
             "ticks": ""
            },
            "colorscale": [
             [
              0,
              "#0d0887"
             ],
             [
              0.1111111111111111,
              "#46039f"
             ],
             [
              0.2222222222222222,
              "#7201a8"
             ],
             [
              0.3333333333333333,
              "#9c179e"
             ],
             [
              0.4444444444444444,
              "#bd3786"
             ],
             [
              0.5555555555555556,
              "#d8576b"
             ],
             [
              0.6666666666666666,
              "#ed7953"
             ],
             [
              0.7777777777777778,
              "#fb9f3a"
             ],
             [
              0.8888888888888888,
              "#fdca26"
             ],
             [
              1,
              "#f0f921"
             ]
            ],
            "type": "histogram2d"
           }
          ],
          "histogram2dcontour": [
           {
            "colorbar": {
             "outlinewidth": 0,
             "ticks": ""
            },
            "colorscale": [
             [
              0,
              "#0d0887"
             ],
             [
              0.1111111111111111,
              "#46039f"
             ],
             [
              0.2222222222222222,
              "#7201a8"
             ],
             [
              0.3333333333333333,
              "#9c179e"
             ],
             [
              0.4444444444444444,
              "#bd3786"
             ],
             [
              0.5555555555555556,
              "#d8576b"
             ],
             [
              0.6666666666666666,
              "#ed7953"
             ],
             [
              0.7777777777777778,
              "#fb9f3a"
             ],
             [
              0.8888888888888888,
              "#fdca26"
             ],
             [
              1,
              "#f0f921"
             ]
            ],
            "type": "histogram2dcontour"
           }
          ],
          "mesh3d": [
           {
            "colorbar": {
             "outlinewidth": 0,
             "ticks": ""
            },
            "type": "mesh3d"
           }
          ],
          "parcoords": [
           {
            "line": {
             "colorbar": {
              "outlinewidth": 0,
              "ticks": ""
             }
            },
            "type": "parcoords"
           }
          ],
          "pie": [
           {
            "automargin": true,
            "type": "pie"
           }
          ],
          "scatter": [
           {
            "fillpattern": {
             "fillmode": "overlay",
             "size": 10,
             "solidity": 0.2
            },
            "type": "scatter"
           }
          ],
          "scatter3d": [
           {
            "line": {
             "colorbar": {
              "outlinewidth": 0,
              "ticks": ""
             }
            },
            "marker": {
             "colorbar": {
              "outlinewidth": 0,
              "ticks": ""
             }
            },
            "type": "scatter3d"
           }
          ],
          "scattercarpet": [
           {
            "marker": {
             "colorbar": {
              "outlinewidth": 0,
              "ticks": ""
             }
            },
            "type": "scattercarpet"
           }
          ],
          "scattergeo": [
           {
            "marker": {
             "colorbar": {
              "outlinewidth": 0,
              "ticks": ""
             }
            },
            "type": "scattergeo"
           }
          ],
          "scattergl": [
           {
            "marker": {
             "colorbar": {
              "outlinewidth": 0,
              "ticks": ""
             }
            },
            "type": "scattergl"
           }
          ],
          "scattermapbox": [
           {
            "marker": {
             "colorbar": {
              "outlinewidth": 0,
              "ticks": ""
             }
            },
            "type": "scattermapbox"
           }
          ],
          "scatterpolar": [
           {
            "marker": {
             "colorbar": {
              "outlinewidth": 0,
              "ticks": ""
             }
            },
            "type": "scatterpolar"
           }
          ],
          "scatterpolargl": [
           {
            "marker": {
             "colorbar": {
              "outlinewidth": 0,
              "ticks": ""
             }
            },
            "type": "scatterpolargl"
           }
          ],
          "scatterternary": [
           {
            "marker": {
             "colorbar": {
              "outlinewidth": 0,
              "ticks": ""
             }
            },
            "type": "scatterternary"
           }
          ],
          "surface": [
           {
            "colorbar": {
             "outlinewidth": 0,
             "ticks": ""
            },
            "colorscale": [
             [
              0,
              "#0d0887"
             ],
             [
              0.1111111111111111,
              "#46039f"
             ],
             [
              0.2222222222222222,
              "#7201a8"
             ],
             [
              0.3333333333333333,
              "#9c179e"
             ],
             [
              0.4444444444444444,
              "#bd3786"
             ],
             [
              0.5555555555555556,
              "#d8576b"
             ],
             [
              0.6666666666666666,
              "#ed7953"
             ],
             [
              0.7777777777777778,
              "#fb9f3a"
             ],
             [
              0.8888888888888888,
              "#fdca26"
             ],
             [
              1,
              "#f0f921"
             ]
            ],
            "type": "surface"
           }
          ],
          "table": [
           {
            "cells": {
             "fill": {
              "color": "#EBF0F8"
             },
             "line": {
              "color": "white"
             }
            },
            "header": {
             "fill": {
              "color": "#C8D4E3"
             },
             "line": {
              "color": "white"
             }
            },
            "type": "table"
           }
          ]
         },
         "layout": {
          "annotationdefaults": {
           "arrowcolor": "#2a3f5f",
           "arrowhead": 0,
           "arrowwidth": 1
          },
          "autotypenumbers": "strict",
          "coloraxis": {
           "colorbar": {
            "outlinewidth": 0,
            "ticks": ""
           }
          },
          "colorscale": {
           "diverging": [
            [
             0,
             "#8e0152"
            ],
            [
             0.1,
             "#c51b7d"
            ],
            [
             0.2,
             "#de77ae"
            ],
            [
             0.3,
             "#f1b6da"
            ],
            [
             0.4,
             "#fde0ef"
            ],
            [
             0.5,
             "#f7f7f7"
            ],
            [
             0.6,
             "#e6f5d0"
            ],
            [
             0.7,
             "#b8e186"
            ],
            [
             0.8,
             "#7fbc41"
            ],
            [
             0.9,
             "#4d9221"
            ],
            [
             1,
             "#276419"
            ]
           ],
           "sequential": [
            [
             0,
             "#0d0887"
            ],
            [
             0.1111111111111111,
             "#46039f"
            ],
            [
             0.2222222222222222,
             "#7201a8"
            ],
            [
             0.3333333333333333,
             "#9c179e"
            ],
            [
             0.4444444444444444,
             "#bd3786"
            ],
            [
             0.5555555555555556,
             "#d8576b"
            ],
            [
             0.6666666666666666,
             "#ed7953"
            ],
            [
             0.7777777777777778,
             "#fb9f3a"
            ],
            [
             0.8888888888888888,
             "#fdca26"
            ],
            [
             1,
             "#f0f921"
            ]
           ],
           "sequentialminus": [
            [
             0,
             "#0d0887"
            ],
            [
             0.1111111111111111,
             "#46039f"
            ],
            [
             0.2222222222222222,
             "#7201a8"
            ],
            [
             0.3333333333333333,
             "#9c179e"
            ],
            [
             0.4444444444444444,
             "#bd3786"
            ],
            [
             0.5555555555555556,
             "#d8576b"
            ],
            [
             0.6666666666666666,
             "#ed7953"
            ],
            [
             0.7777777777777778,
             "#fb9f3a"
            ],
            [
             0.8888888888888888,
             "#fdca26"
            ],
            [
             1,
             "#f0f921"
            ]
           ]
          },
          "colorway": [
           "#636efa",
           "#EF553B",
           "#00cc96",
           "#ab63fa",
           "#FFA15A",
           "#19d3f3",
           "#FF6692",
           "#B6E880",
           "#FF97FF",
           "#FECB52"
          ],
          "font": {
           "color": "#2a3f5f"
          },
          "geo": {
           "bgcolor": "white",
           "lakecolor": "white",
           "landcolor": "#E5ECF6",
           "showlakes": true,
           "showland": true,
           "subunitcolor": "white"
          },
          "hoverlabel": {
           "align": "left"
          },
          "hovermode": "closest",
          "mapbox": {
           "style": "light"
          },
          "paper_bgcolor": "white",
          "plot_bgcolor": "#E5ECF6",
          "polar": {
           "angularaxis": {
            "gridcolor": "white",
            "linecolor": "white",
            "ticks": ""
           },
           "bgcolor": "#E5ECF6",
           "radialaxis": {
            "gridcolor": "white",
            "linecolor": "white",
            "ticks": ""
           }
          },
          "scene": {
           "xaxis": {
            "backgroundcolor": "#E5ECF6",
            "gridcolor": "white",
            "gridwidth": 2,
            "linecolor": "white",
            "showbackground": true,
            "ticks": "",
            "zerolinecolor": "white"
           },
           "yaxis": {
            "backgroundcolor": "#E5ECF6",
            "gridcolor": "white",
            "gridwidth": 2,
            "linecolor": "white",
            "showbackground": true,
            "ticks": "",
            "zerolinecolor": "white"
           },
           "zaxis": {
            "backgroundcolor": "#E5ECF6",
            "gridcolor": "white",
            "gridwidth": 2,
            "linecolor": "white",
            "showbackground": true,
            "ticks": "",
            "zerolinecolor": "white"
           }
          },
          "shapedefaults": {
           "line": {
            "color": "#2a3f5f"
           }
          },
          "ternary": {
           "aaxis": {
            "gridcolor": "white",
            "linecolor": "white",
            "ticks": ""
           },
           "baxis": {
            "gridcolor": "white",
            "linecolor": "white",
            "ticks": ""
           },
           "bgcolor": "#E5ECF6",
           "caxis": {
            "gridcolor": "white",
            "linecolor": "white",
            "ticks": ""
           }
          },
          "title": {
           "x": 0.05
          },
          "xaxis": {
           "automargin": true,
           "gridcolor": "white",
           "linecolor": "white",
           "ticks": "",
           "title": {
            "standoff": 15
           },
           "zerolinecolor": "white",
           "zerolinewidth": 2
          },
          "yaxis": {
           "automargin": true,
           "gridcolor": "white",
           "linecolor": "white",
           "ticks": "",
           "title": {
            "standoff": 15
           },
           "zerolinecolor": "white",
           "zerolinewidth": 2
          }
         }
        },
        "title": {
         "text": "Household savings & net worth for eight OECD countries"
        },
        "xaxis": {
         "anchor": "y",
         "domain": [
          0,
          0.42
         ],
         "showgrid": true,
         "showline": false,
         "showticklabels": true,
         "zeroline": false
        },
        "xaxis2": {
         "anchor": "y2",
         "domain": [
          0.47,
          1
         ],
         "dtick": 25000,
         "showgrid": true,
         "showline": false,
         "showticklabels": true,
         "side": "top",
         "zeroline": false
        },
        "yaxis": {
         "anchor": "x",
         "domain": [
          0,
          0.85
         ],
         "showgrid": false,
         "showline": false,
         "showticklabels": true
        },
        "yaxis2": {
         "anchor": "x2",
         "domain": [
          0,
          0.85
         ],
         "linecolor": "rgba(102, 102, 102, 0.8)",
         "linewidth": 2,
         "showgrid": false,
         "showline": true,
         "showticklabels": false
        }
       }
      }
     },
     "metadata": {},
     "output_type": "display_data"
    }
   ],
   "source": [
    "import plotly.graph_objects as go\n",
    "from plotly.subplots import make_subplots\n",
    "\n",
    "import numpy as np\n",
    "\n",
    "y_saving = [1.3586, 2.2623000000000002, 4.9821999999999997, 6.5096999999999996,\n",
    "            7.4812000000000003, 7.5133000000000001, 15.2148, 17.520499999999998\n",
    "            ]\n",
    "y_net_worth = [93453.919999999998, 81666.570000000007, 69889.619999999995,\n",
    "               78381.529999999999, 141395.29999999999, 92969.020000000004,\n",
    "               66090.179999999993, 122379.3]\n",
    "x = ['Japan', 'United Kingdom', 'Canada', 'Netherlands',\n",
    "     'United States', 'Belgium', 'Sweden', 'Switzerland']\n",
    "\n",
    "\n",
    "# Creating two subplots\n",
    "fig = make_subplots(rows=1, cols=2, specs=[[{}, {}]], shared_xaxes=True,\n",
    "                    shared_yaxes=False, vertical_spacing=0.001)\n",
    "\n",
    "fig.append_trace(go.Bar(\n",
    "    x=y_saving,\n",
    "    y=x,\n",
    "    marker=dict(\n",
    "        color='rgba(50, 171, 96, 0.6)',\n",
    "        line=dict(\n",
    "            color='rgba(50, 171, 96, 1.0)',\n",
    "            width=1),\n",
    "    ),\n",
    "    name='Household savings, percentage of household disposable income',\n",
    "    orientation='h',\n",
    "), 1, 1)\n",
    "\n",
    "fig.append_trace(go.Scatter(\n",
    "    x=y_net_worth, y=x,\n",
    "    mode='lines+markers',\n",
    "    line_color='rgb(128, 0, 128)',\n",
    "    name='Household net worth, Million USD/capita',\n",
    "), 1, 2)\n",
    "\n",
    "fig.update_layout(\n",
    "    title='Household savings & net worth for eight OECD countries',\n",
    "    yaxis=dict(\n",
    "        showgrid=False,\n",
    "        showline=False,\n",
    "        showticklabels=True,\n",
    "        domain=[0, 0.85],\n",
    "    ),\n",
    "    yaxis2=dict(\n",
    "        showgrid=False,\n",
    "        showline=True,\n",
    "        showticklabels=False,\n",
    "        linecolor='rgba(102, 102, 102, 0.8)',\n",
    "        linewidth=2,\n",
    "        domain=[0, 0.85],\n",
    "    ),\n",
    "    xaxis=dict(\n",
    "        zeroline=False,\n",
    "        showline=False,\n",
    "        showticklabels=True,\n",
    "        showgrid=True,\n",
    "        domain=[0, 0.42],\n",
    "    ),\n",
    "    xaxis2=dict(\n",
    "        zeroline=False,\n",
    "        showline=False,\n",
    "        showticklabels=True,\n",
    "        showgrid=True,\n",
    "        domain=[0.47, 1],\n",
    "        side='top',\n",
    "        dtick=25000,\n",
    "    ),\n",
    "    legend=dict(x=0.029, y=1.038, font_size=10),\n",
    "    margin=dict(l=100, r=20, t=70, b=70),\n",
    "    paper_bgcolor='rgb(248, 248, 255)',\n",
    "    plot_bgcolor='rgb(248, 248, 255)',\n",
    ")\n",
    "\n",
    "annotations = []\n",
    "\n",
    "y_s = np.round(y_saving, decimals=2)\n",
    "y_nw = np.rint(y_net_worth)\n",
    "\n",
    "# Adding labels\n",
    "for ydn, yd, xd in zip(y_nw, y_s, x):\n",
    "    # labeling the scatter savings\n",
    "    annotations.append(dict(xref='x2', yref='y2',\n",
    "                            y=xd, x=ydn - 20000,\n",
    "                            text='{:,}'.format(ydn) + 'M',\n",
    "                            font=dict(family='Arial', size=12,\n",
    "                                      color='rgb(128, 0, 128)'),\n",
    "                            showarrow=False))\n",
    "    # labeling the bar net worth\n",
    "    annotations.append(dict(xref='x1', yref='y1',\n",
    "                            y=xd, x=yd + 3,\n",
    "                            text=str(yd) + '%',\n",
    "                            font=dict(family='Arial', size=12,\n",
    "                                      color='rgb(50, 171, 96)'),\n",
    "                            showarrow=False))\n",
    "# Source\n",
    "annotations.append(dict(xref='paper', yref='paper',\n",
    "                        x=-0.2, y=-0.109,\n",
    "                        text='OECD \"' +\n",
    "                             '(2015), Household savings (indicator), ' +\n",
    "                             'Household net worth (indicator). doi: ' +\n",
    "                             '10.1787/cfc6f499-en (Accessed on 05 June 2015)',\n",
    "                        font=dict(family='Arial', size=10, color='rgb(150,150,150)'),\n",
    "                        showarrow=False))\n",
    "\n",
    "fig.update_layout(annotations=annotations)\n",
    "\n",
    "fig.show()"
   ]
  }
 ],
 "metadata": {
  "kernelspec": {
   "display_name": "Python 3",
   "language": "python",
   "name": "python3"
  },
  "language_info": {
   "codemirror_mode": {
    "name": "ipython",
    "version": 3
   },
   "file_extension": ".py",
   "mimetype": "text/x-python",
   "name": "python",
   "nbconvert_exporter": "python",
   "pygments_lexer": "ipython3",
   "version": "3.12.2"
  }
 },
 "nbformat": 4,
 "nbformat_minor": 2
}
